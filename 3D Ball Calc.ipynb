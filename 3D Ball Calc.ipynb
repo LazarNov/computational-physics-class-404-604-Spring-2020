{
 "cells": [
  {
   "cell_type": "code",
   "execution_count": null,
   "metadata": {},
   "outputs": [],
   "source": [
    "# x(2)\n",
    "# ac1.subs(x1, 5)\n",
    "# expr.subs([(x, 2), (y, 4), (z, 0)])\n",
    "\n",
    "\n",
    "# def f(t, y, acl1,acl2,acl3,acl4):\n",
    "#     # GM_i = 1,    i = 1,2\n",
    "#     #rx = y[0] - y[4]           # Displacement vector components\n",
    "#     #ry = y[2] - y[6]           # from 2 to 1\n",
    "#     #r = np.sqrt(rx**2 + ry**2) # magnitude of DV\n",
    "#     f = np.zeros(8)\n",
    "#     f[0] = y[1]                # dx_1/dt = v_x_1\n",
    "#     f[1] = acl1.subs([(x1,y[0]),(x2,y[4]),(y1,y[2]),(y2,y[6])])  # dv_x_1/dt = F12_x = -GMr_x/r^3\n",
    "#     f[2] = y[3]                # dy_1/dt = v_y_1\n",
    "#     f[3] = acl2.subs([(x1,y[0]),(x2,y[4]),(y1,y[2]),(y2,y[6])])       # dv_y_1/dt = F12_y = -GMr_y/r^3\n",
    "#     f[4] = y[5]                # dx_2/dt = v_x_2\n",
    "#     f[5] = acl3.subs([(x1,y[0]),(x2,y[4]),(y1,y[2]),(y2,y[6])])        # dv_x_2/dt = F21_x = -F12_x\n",
    "#     f[6] = y[7]                # dy/dt = v_y\n",
    "#     f[7] = acl4.subs([(x1,y[0]),(x2,y[4]),(y1,y[2]),(y2,y[6])])       # dv_y_2/dt = F21_y = -F12_y\n",
    "#     return f\n",
    "\n",
    "# So we have y[0]=x, y[1]=v_{x}, y[2]=y, y[3]=v_{y}\n",
    "# import numpy as np\n",
    "# from vpython import * # must import vpython first\n",
    "\n",
    "# scene = canvas() # with this you don't need to restart kernel each time\n",
    "# gd = graph(x=0, y=0, width=600, height=600, \n",
    "#       title='Orbit', xtitle='x', ytitle='y', \n",
    "#       foreground=color.black, background=color.white, \n",
    "#       xmax=2, xmin=-2, ymax=2, ymin=-2)\n",
    "\n",
    "# f1 = gcurve(color=color.cyan)\t# a graphics curve  \n",
    "\n",
    "# G=1.\n",
    "# M=1.\n",
    "# tend=2.*np.pi\n",
    "# h=0.001\n",
    "# y=[1.,0.,0.,1.]\n",
    "# t=0\n",
    "\n",
    "\n",
    "# #f(t, ya, acl1,acl2,acl3,acl4)\n",
    "\n",
    "# # def f(t, y):\n",
    "# #     f=np.zeros(4)\n",
    "# #     r=np.sqrt(y[0]*y[0]+y[2]*y[2])\n",
    "# #     f[0]=y[1]\n",
    "# #     f[1]=-G*M/r/r/r*y[0]\n",
    "# #     f[2]=y[3]\n",
    "# #     f[3]=-G*M/r/r/r*y[2]\n",
    "# #     return f\n",
    "    \n",
    "# # def eu(t, h, y, n):\n",
    "# #     y+=h*f(t,y)\n",
    "# #     return y\n",
    "# #     # write Euler method\n",
    "        \n",
    "# # while(t<tend):\n",
    "# #     if((t+h)>tend):\n",
    "# #         h=tend-ta\n",
    "# #     y = eu(t,h,y,4)\n",
    "# #     t = t+h\n",
    "# #     rate(500)\n",
    "# #     f1.plot(pos=(y[0],y[2]))\n",
    "    \n",
    "# x1a = []\n",
    "# x2a = []\n",
    "# y1a = []\n",
    "# y2a = []\n",
    "\n",
    "# y=[1.0,0.,0.0,0.3, -1.0,0.,0.,-0.3]\n",
    "# q1 = y[0] - y[4]           \n",
    "# q2 = y[2] - y[6]  \n",
    "# Rb = np.sqrt(q1**2 + q2**2)  \n",
    "# h = 0.01\n",
    "# t= 0\n",
    "# tend = np.sqrt(2.0*4.0*(np.pi**2)* (Rb**3))\n",
    "\n",
    "\n",
    "\n",
    "# while(t<tend):\n",
    "    \n",
    "#     if((t+h)>tend):\n",
    "#         h=tend-t\n",
    "#         ya =rk4(t,h,ya,f)\n",
    "# #     y = rk4(ya,t,h)\n",
    "#     x1a=np.append(x1a,ya[0])\n",
    "#     y1a=np.append(y1a,ya[2])\n",
    "#     x2a=np.append(x2a,ya[4])\n",
    "#     y2a=np.append(y2a,ya[6])\n",
    "#     t = t+h\n",
    "    \n",
    "# plt.xlabel(\"x\")\n",
    "# plt.ylabel(\"y\")\n",
    "\n",
    "# plt.plot(x1a,y1a,label=\"Star 1\")\n",
    "# plt.plot(x2a,y2a,label=\"Star 2\")\n",
    "\n",
    "# plt.show()\n",
    "\n",
    "# def rk4a(y,t,h): # h being the interval step\n",
    "#     k1=np.zeros(8) # This is borrowed from lecture.\n",
    "#     k2=np.zeros(8)\n",
    "#     k3=np.zeros(8)\n",
    "#     k4=np.zeros(8)\n",
    "\n",
    "#     k1 = h*f(t, y, acl1,acl2,acl3,acl4)\n",
    "#     k2 = h*f(t + (1.0/2.0)*h, y + (1.0/2.0)*k1, acl1,acl2,acl3,acl4)\n",
    "#     k3 = h*f(t + (1.0/2.0)*h, y + (1.0/2.0)*k2, acl1,acl2,acl3,acl4)\n",
    "#     k4 = h*f(t + h, y + k3, acl1,acl2,acl3,acl4)\n",
    "    \n",
    "#     y = y +  (k1 + 2 * k2 + 2 * k3 + k4)/6.0\n",
    "    \n",
    "#     return y\n",
    "# x1a = []\n",
    "# x2a = []\n",
    "# y1a = []\n",
    "# y2a = []\n",
    "\n",
    "# ya=[1.0,0.,0.0,0.3, -1.0,0.,0.,-0.3]\n",
    "# q1 = ya[0] - ya[4]           \n",
    "# q2 = ya[2] - ya[6]  \n",
    "# Rb = np.sqrt(q1**2 + q2**2)  \n",
    "# h = 0.01\n",
    "# t= 0\n",
    "# tend = np.sqrt(2.0*4.0*(np.pi**2)* (Rb**3))\n",
    "\n",
    "\n",
    "\n",
    "# while(t<tend):\n",
    "    \n",
    "#     if((t+h)>tend):\n",
    "#         h=tend-t\n",
    "#     ya = rk4a(ya,t,h)\n",
    "#     x1a=np.append(x1a,ya[0])\n",
    "#     y1a=np.append(y1a,ya[2])\n",
    "#     x2a=np.append(x2a,ya[4])\n",
    "#     y2a=np.append(y2a,ya[6])\n",
    "#     t = t+h\n",
    "    \n",
    "# plt.xlabel(\"x\")\n",
    "# plt.ylabel(\"y\")\n",
    "\n",
    "# plt.plot(x1a,y1a,label=\"Star 1\")\n",
    "# plt.plot(x2a,y2a,label=\"Star 2\")\n",
    "\n",
    "# plt.show()\n",
    "    "
   ]
  },
  {
   "cell_type": "code",
   "execution_count": 3,
   "metadata": {
    "scrolled": false
   },
   "outputs": [
    {
     "data": {
      "application/javascript": [
       "require.undef(\"nbextensions/vpython_libraries/glow.min\");"
      ],
      "text/plain": [
       "<IPython.core.display.Javascript object>"
      ]
     },
     "metadata": {},
     "output_type": "display_data"
    },
    {
     "data": {
      "application/javascript": [
       "require.undef(\"nbextensions/vpython_libraries/glowcomm\");"
      ],
      "text/plain": [
       "<IPython.core.display.Javascript object>"
      ]
     },
     "metadata": {},
     "output_type": "display_data"
    },
    {
     "data": {
      "application/javascript": [
       "require.undef(\"nbextensions/vpython_libraries/jquery-ui.custom.min\");"
      ],
      "text/plain": [
       "<IPython.core.display.Javascript object>"
      ]
     },
     "metadata": {},
     "output_type": "display_data"
    },
    {
     "data": {
      "application/javascript": [
       "require([\"nbextensions/vpython_libraries/glow.min\"], function(){console.log(\"GLOW LOADED\");})"
      ],
      "text/plain": [
       "<IPython.core.display.Javascript object>"
      ]
     },
     "metadata": {},
     "output_type": "display_data"
    },
    {
     "data": {
      "application/javascript": [
       "require([\"nbextensions/vpython_libraries/glowcomm\"], function(){console.log(\"GLOWCOMM LOADED\");})"
      ],
      "text/plain": [
       "<IPython.core.display.Javascript object>"
      ]
     },
     "metadata": {},
     "output_type": "display_data"
    },
    {
     "data": {
      "application/javascript": [
       "require([\"nbextensions/vpython_libraries/jquery-ui.custom.min\"], function(){console.log(\"JQUERY LOADED\");})"
      ],
      "text/plain": [
       "<IPython.core.display.Javascript object>"
      ]
     },
     "metadata": {},
     "output_type": "display_data"
    },
    {
     "data": {
      "text/html": [
       "<div id=\"glowscript\" class=\"glowscript\"></div>"
      ],
      "text/plain": [
       "<IPython.core.display.HTML object>"
      ]
     },
     "metadata": {},
     "output_type": "display_data"
    },
    {
     "data": {
      "application/javascript": [
       "window.__context = { glowscript_container: $(\"#glowscript\").removeAttr(\"id\")}"
      ],
      "text/plain": [
       "<IPython.core.display.Javascript object>"
      ]
     },
     "metadata": {},
     "output_type": "display_data"
    },
    {
     "data": {
      "text/html": [
       "<div id=\"glowscript\" class=\"glowscript\"></div>"
      ],
      "text/plain": [
       "<IPython.core.display.HTML object>"
      ]
     },
     "metadata": {},
     "output_type": "display_data"
    },
    {
     "data": {
      "application/javascript": [
       "window.__context = { glowscript_container: $(\"#glowscript\").removeAttr(\"id\")}"
      ],
      "text/plain": [
       "<IPython.core.display.Javascript object>"
      ]
     },
     "metadata": {},
     "output_type": "display_data"
    },
    {
     "ename": "TypeError",
     "evalue": "cannot determine truth value of Relational",
     "output_type": "error",
     "traceback": [
      "\u001b[1;31m---------------------------------------------------------------------------\u001b[0m",
      "\u001b[1;31mTypeError\u001b[0m                                 Traceback (most recent call last)",
      "\u001b[1;32m<ipython-input-1-c407e9e4662a>\u001b[0m in \u001b[0;36m<module>\u001b[1;34m()\u001b[0m\n\u001b[0;32m     32\u001b[0m     \u001b[1;31m# write Euler method\u001b[0m\u001b[1;33m\u001b[0m\u001b[1;33m\u001b[0m\u001b[0m\n\u001b[0;32m     33\u001b[0m \u001b[1;33m\u001b[0m\u001b[0m\n\u001b[1;32m---> 34\u001b[1;33m \u001b[1;32mwhile\u001b[0m\u001b[1;33m(\u001b[0m\u001b[0mt\u001b[0m\u001b[1;33m<\u001b[0m\u001b[0mtend\u001b[0m\u001b[1;33m)\u001b[0m\u001b[1;33m:\u001b[0m\u001b[1;33m\u001b[0m\u001b[0m\n\u001b[0m\u001b[0;32m     35\u001b[0m     \u001b[1;32mif\u001b[0m\u001b[1;33m(\u001b[0m\u001b[1;33m(\u001b[0m\u001b[0mt\u001b[0m\u001b[1;33m+\u001b[0m\u001b[0mh\u001b[0m\u001b[1;33m)\u001b[0m\u001b[1;33m>\u001b[0m\u001b[0mtend\u001b[0m\u001b[1;33m)\u001b[0m\u001b[1;33m:\u001b[0m\u001b[1;33m\u001b[0m\u001b[0m\n\u001b[0;32m     36\u001b[0m         \u001b[0mh\u001b[0m\u001b[1;33m=\u001b[0m\u001b[0mtend\u001b[0m\u001b[1;33m-\u001b[0m\u001b[0mta\u001b[0m\u001b[1;33m\u001b[0m\u001b[0m\n",
      "\u001b[1;32m~\\Miniconda3\\lib\\site-packages\\sympy\\core\\relational.py\u001b[0m in \u001b[0;36m__nonzero__\u001b[1;34m(self)\u001b[0m\n\u001b[0;32m    227\u001b[0m \u001b[1;33m\u001b[0m\u001b[0m\n\u001b[0;32m    228\u001b[0m     \u001b[1;32mdef\u001b[0m \u001b[0m__nonzero__\u001b[0m\u001b[1;33m(\u001b[0m\u001b[0mself\u001b[0m\u001b[1;33m)\u001b[0m\u001b[1;33m:\u001b[0m\u001b[1;33m\u001b[0m\u001b[0m\n\u001b[1;32m--> 229\u001b[1;33m         \u001b[1;32mraise\u001b[0m \u001b[0mTypeError\u001b[0m\u001b[1;33m(\u001b[0m\u001b[1;34m\"cannot determine truth value of Relational\"\u001b[0m\u001b[1;33m)\u001b[0m\u001b[1;33m\u001b[0m\u001b[0m\n\u001b[0m\u001b[0;32m    230\u001b[0m \u001b[1;33m\u001b[0m\u001b[0m\n\u001b[0;32m    231\u001b[0m     \u001b[0m__bool__\u001b[0m \u001b[1;33m=\u001b[0m \u001b[0m__nonzero__\u001b[0m\u001b[1;33m\u001b[0m\u001b[0m\n",
      "\u001b[1;31mTypeError\u001b[0m: cannot determine truth value of Relational"
     ]
    }
   ],
   "source": [
    "# So we have y[0]=x, y[1]=v_{x}, y[2]=y, y[3]=v_{y}\n",
    "import numpy as np\n",
    "from vpython import * # must import vpython first\n",
    "\n",
    "scene = canvas() # with this you don't need to restart kernel each time\n",
    "gd = graph(x=0, y=0, width=600, height=600, \n",
    "      title='Orbit', xtitle='x', ytitle='y', \n",
    "      foreground=color.black, background=color.white, \n",
    "      xmax=2, xmin=-2, ymax=2, ymin=-2)\n",
    "\n",
    "f1 = gcurve(color=color.cyan)\t# a graphics curve  \n",
    "\n",
    "G=1.\n",
    "M=1.\n",
    "tend=0.5*np.pi\n",
    "h=0.001\n",
    "y=[1.,0.,0.,1.]\n",
    "t=0\n",
    "ta = np.pi\n",
    "def f(t, y):\n",
    "    f=np.zeros(4)\n",
    "    r=np.sqrt(y[0]*y[0]+y[2]*y[2])\n",
    "    f[0]=y[1]\n",
    "    f[1]=-G*M/r/r/r*y[0]\n",
    "    f[2]=y[3]\n",
    "    f[3]=-G*M/r/r/r*y[2]\n",
    "    return f\n",
    "    \n",
    "def eu(t, h, y, n):\n",
    "    y+=h*f(t,y)\n",
    "    return y\n",
    "    # write Euler method\n",
    "        \n",
    "while(t<tend):\n",
    "    if((t+h)>tend):\n",
    "        h=tend-ta\n",
    "    y = eu(t,h,y,4)\n",
    "    t = t+h\n",
    "    rate(500)\n",
    "    f1.plot(pos=(y[0],y[2]))\n",
    "    "
   ]
  },
  {
   "cell_type": "code",
   "execution_count": 52,
   "metadata": {},
   "outputs": [],
   "source": [
    "%matplotlib inline\n",
    "\n",
    "from sympy import Eq, Symbol, solve, Derivative, function, init_printing\n",
    "\n",
    "#from math import sin, cos, tan, asin\n",
    "\n",
    "from sympy import latex\n",
    "\n",
    "import numpy as np\n",
    "\n",
    "import matplotlib.pyplot as plt\n",
    "\n",
    "import sympy\n",
    "\n",
    "from sympy import *\n",
    "\n",
    "import string\n",
    "from vpython import * \n",
    "# must import vpython first\n",
    "\n",
    "                #calclagrangian.doit(), solv   \n",
    "        \n",
    "                #calclagrangian.doit(), solv     \n",
    "                \n",
    "                #print(diffpartial.doit())\n",
    "                \n",
    "                #print(\"0 =\", calclagrangian.doit())\n",
    "                \n",
    "                \n",
    "#H = Symbol(\"H\")\n",
    "\n",
    "# a = Symbol(\"a\")\n",
    "# A = Symbol(\"A\")\n",
    "\n",
    "# \n",
    "\n",
    "# p = Symbol(\"p\")\n",
    "# G = Symbol(\"G\"),\n",
    "# F = Symbol(\"F\")\n",
    "# M = Symbol(\"M\")\n",
    "\n",
    "# f = Symbol(\"f\")\n",
    "# k = Symbol(\"k\")\n",
    "# a = Symbol(\"a\")\n",
    "\n",
    "# R = Symbol(\"R\")\n",
    "# v = Symbol(\"v\")\n",
    "# l = Symbol(\"l\")\n",
    "\n",
    "# r = Symbol(\"r\")\n",
    "# v_z = Symbol(\"v_z\")\n",
    "# v_y = Symbol(\"v_y\")\n",
    "# v_x = Symbol(\"v_x\")\n",
    "\n",
    "\n",
    "# x1 = Symbol(\"x1\")\n",
    "# x2 = Symbol(\"x2\")\n",
    "\n",
    "# y1 = Symbol(\"y1\")\n",
    "# y2 = Symbol(\"y2\")\n",
    "\n",
    "# vx1 = Symbol(\"vx1\")\n",
    "# vx2 = Symbol(\"vx2\")\n",
    "\n",
    "# vy1 = Symbol(\"vy1\")\n",
    "# vy2 = Symbol(\"vy2\")\n",
    "\n",
    "# x = x(t)\n",
    "# v = v(t)\n",
    "# y = y(t)\n",
    "# z = z(t)\n",
    "# w = w(t)\n",
    "# o = o(t)\n",
    "# v_z = v_z(t)\n",
    "\n",
    "# x1 = x1(t)\n",
    "# x2 = x2(t)\n",
    "\n",
    "# y1 = y1(t)\n",
    "# y2 = y2(t)\n",
    "\n",
    "# v_y = v_y(t)\n",
    "# v_x = v_x(t)\n",
    "# th = Symbol(\"th\")\n",
    "# th = th(t)\n",
    "\n",
    "\n",
    "# def vx1(t):\n",
    "#     return\n",
    "#vx1 = vx1(t)\n",
    "#y = Function('y')(x)\n",
    "\n",
    "#ax1 = Derivative(vx1(t),t).doit()\n",
    "#ax2 = Derivative(vx2(t),t).doit()\n",
    "#ay1 = Derivative(vy1(t),t).doit()\n",
    "#ay2 = Derivative(vy2(t),t).doit()"
   ]
  },
  {
   "cell_type": "code",
   "execution_count": 53,
   "metadata": {
    "scrolled": false
   },
   "outputs": [
    {
     "name": "stdout",
     "output_type": "stream",
     "text": [
      "Respect to: t\n",
      "The Potential Energy: \n",
      "The Kinetic Energy: \n",
      "Position Variable(s), (i.e. x, r, theta,...): \n",
      "\n",
      "Velocity Variable(s), (i.e. x_dot , y_dot ,v_x , v_y,...): \n",
      "\n"
     ]
    },
    {
     "data": {
      "image/png": "[encoded data removed]",
      "text/plain": [
       "<Figure size 432x288 with 2 Axes>"
      ]
     },
     "metadata": {
      "needs_background": "light"
     },
     "output_type": "display_data"
    },
    {
     "data": {
      "image/png": "[encoded data removed]",
      "text/plain": [
       "<Figure size 432x288 with 2 Axes>"
      ]
     },
     "metadata": {
      "needs_background": "light"
     },
     "output_type": "display_data"
    },
    {
     "data": {
      "image/png": "[encoded data removed]",
      "text/plain": [
       "<Figure size 432x288 with 2 Axes>"
      ]
     },
     "metadata": {
      "needs_background": "light"
     },
     "output_type": "display_data"
    },
    {
     "data": {
      "image/png": "[encoded data removed]",
      "text/plain": [
       "<Figure size 432x288 with 2 Axes>"
      ]
     },
     "metadata": {
      "needs_background": "light"
     },
     "output_type": "display_data"
    }
   ],
   "source": [
    "init_printing(use_unicode=True, wrap_line=True)  \n",
    "ignored = set(string.punctuation + string.whitespace)\n",
    "\n",
    "t = Symbol(\"t\")\n",
    "L = Symbol(\"L\")\n",
    "U = Symbol('U')\n",
    "T = Symbol('T')\n",
    "m = Symbol('m', integer=True)\n",
    "g = Symbol('g', integer=True)\n",
    "l = Symbol('l')\n",
    "yes = not(ignored)\n",
    "\n",
    "y = Symbol(\"y\")\n",
    "z = Symbol(\"z\")\n",
    "x = Symbol(\"x\")\n",
    "\n",
    "J = Function(\"Equations\"  \"Of\" ' ' \"Motion\"\"=>\")\n",
    "\n",
    "x1 = Function('x1')(t)\n",
    "x2 = Function('x2')(t) \n",
    "y1 = Function('y1')(t)\n",
    "y2 = Function('y2')(t)\n",
    "\n",
    "\n",
    "vx1 = Function('vx1')(t)\n",
    "vx2 = Function('vx2')(t) \n",
    "vy1 = Function('vy1')(t)\n",
    "vy2 = Function('vy2')(t)\n",
    "\n",
    "s = [x1,y1,x2,y2]\n",
    "i = [vx1,vy1,vx2,vy2]\n",
    "\n",
    "rspt = input(\"Respect to: \")\n",
    "t = eval(rspt)\n",
    "#These defaults I made are for a spring pendulum.\n",
    "u = input(\"The Potential Energy: \")\n",
    "if u == \"\":\n",
    "    U = eval(\"-1/((x2-x1)**2.0+(y2-y1)**2.0)**0.5 + ((x2-x1)**2.0+(y2-y1)**2.0)/2.0\")\n",
    "else:\n",
    "    U = eval(u) \n",
    "H = input(\"The Kinetic Energy: \")                \n",
    "if H == \"\":\n",
    "    T = eval(\"((vx2-vx1)**2.0 + (vy2-vy1)**2.0)/2.0\")\n",
    "else:\n",
    "    T = eval(H)\n",
    "    \n",
    "vx1 = Function('vx1')(t)\n",
    "vx2 = Function('vx2')(t) \n",
    "vy1 = Function('vy1')(t)\n",
    "vy2 = Function('vy2')(t)\n",
    "\n",
    "x1 = Function('x1')(t)\n",
    "x2 = Function('x2')(t) \n",
    "y1 = Function('y1')(t)\n",
    "y2 = Function('y2')(t)\n",
    "\n",
    "L = T - U\n",
    "\n",
    "print(input(\"Position Variable(s), (i.e. x, r, theta,...): \"))\n",
    "print(input(\"Velocity Variable(s), (i.e. x_dot , y_dot ,v_x , v_y,...): \"))\n",
    "#s = input(\"Position Variable(s), (i.e. x, r, theta,...): \")\n",
    "#s = s.replace(\" \",\"\")\n",
    "#i = input(\"Velocity Variable(s), (i.e. x_dot , y_dot ,v_x , v_y,...): \")\n",
    "\n",
    "s = [x1,y1,x2,y2]\n",
    "i = [vx1,vy1,vx2,vy2]\n",
    "#i = i.replace(\" \",\"\")\n",
    "\n",
    "x1 = Function('x1')(t)\n",
    "x2 = Function('x2')(t) \n",
    "y1 = Function('y1')(t)\n",
    "y2 = Function('y2')(t)\n",
    "\n",
    "\n",
    "vx1 = Function('vx1')(t)\n",
    "vx2 = Function('vx2')(t) \n",
    "vy1 = Function('vy1')(t)\n",
    "vy2 = Function('vy2')(t)\n",
    "\n",
    "\n",
    "\n",
    "\n",
    "\n",
    "lengthoflist1 = len(list(s))\n",
    "                \n",
    "lengthoflist2 = len(list(i))\n",
    "\n",
    "adiff1 = +1.0*Derivative(i[0], t)-1.0*Derivative(i[2], t) \n",
    "adiff2 = + 1.0*Derivative(i[1], t)-1.0*Derivative(i[3], t)\n",
    "\n",
    "#print(adiff1)\n",
    "#print(adiff2) \n",
    "\n",
    "for r in range(0, lengthoflist1):\n",
    "    \n",
    "    #s[r] = s[r](t)\n",
    "    #i[r] = i[r](t)\n",
    "\n",
    "    lagrange1 = Eq(((Derivative(L, s[r]).doit())-(Derivative(Derivative(L, i[r]).doit(), t))).doit(), 0)\n",
    "    lol = Derivative(L, i[r]).doit()\n",
    "    \n",
    "    \n",
    "    if (r == 0 or r==2):\n",
    "        adiff = adiff1\n",
    "    else:\n",
    "        adiff = adiff2\n",
    "            \n",
    "        \n",
    "    acceleration1 = solve(Eq(((Derivative(L, s[r]).doit())-(Derivative(Derivative(L, i[r]).doit(), t))).doit(), 0), adiff)\n",
    "    #print(adiff,\"Hello\")\n",
    "    if(r == 0):\n",
    "        acl1t = acceleration1#[0]\n",
    "        \n",
    "    elif(r==1):\n",
    "        acl2t = acceleration1#[0]\n",
    "        \n",
    "    elif(r==2):\n",
    "        acl3t = acceleration1#[0]\n",
    "        \n",
    "    elif(r==3):\n",
    "        acl4t = acceleration1#[0]\n",
    "    \n",
    "    \n",
    "    \n",
    "    \n",
    "                    #print(lagrange1)\n",
    "                    #print(acceleration1)\n",
    "\n",
    "                    #a = latex(\"SolveLagrangian \\longrightarrow\")\n",
    "                    #b = latex(lagrange1)\n",
    "                    #c = latex(\" a\") + latex(\"_\") + latex(s[r]) + latex('=')\n",
    "                    #d = latex(acceleration1)\n",
    "\n",
    "    \n",
    "    ax = plt.subplots()\n",
    "    plt.axis('off')\n",
    "    \n",
    "    ax = plt.axes([0,0,2.7,0.5]) \n",
    "\n",
    "    ax.set_xticks([])\n",
    "\n",
    "    ax.set_yticks([])\n",
    "                                        #Lagrangian and Text\n",
    "    plt.text(0.03,(0.7),'$%s$' %(latex(\"SolveLagrangian \\longrightarrow\")),size=21), plt.text(0.24,(0.7),'$%s$' %(latex(lagrange1)),size=21)\n",
    "    \n",
    "                                    #Solution to Respective acceleration\n",
    "    plt.text(0.03,(0.22),'$%s$' %(latex(\" a\") + latex(\"_\") + latex(s[r]) + latex('=')),size=24), plt.text(0.12,(0.22),'$%s$' %(latex(acceleration1)),size=24)\n",
    "    plt.show()       \n",
    "    \n",
    "\n",
    "\n",
    "#***START***\n",
    "\n",
    "# for k  in  list(s):             \n",
    "#         for n in list(i):\n",
    "              \n",
    "#                 a = Derivative(n,rspt)\n",
    "#                 partialderiv1 = Derivative(L, k) \n",
    "#                 partialderiv2 = Derivative(L, n)\n",
    "#                 diffpartial = Derivative(partialderiv2, t)\n",
    "#                 calclagrangian = partialderiv1 - diffpartial   \n",
    "#                 eqn = Eq((calclagrangian.doit()), 0)\n",
    "#                 solv = solve(eqn, Derivative(n, t) )\n",
    "#                 partialderiv1 = Derivative(L, k)\n",
    "#                 partialderiv1.doit()\n",
    "#                 partialderiv2 = Derivative(L, n)\n",
    "#                 diffpartial = Derivative(partialderiv2, t)\n",
    "#                 calclagrangian = partialderiv1 - diffpartial\n",
    "#                 calclagrangian.doit()\n",
    "#                 eqn = Eq((calclagrangian.doit()), 0)\n",
    "#                 solv = solve(eqn, Derivative(n, t))\n",
    "#                 partialderiv1 = Derivative(L, k)\n",
    "#                 partialderiv2 = Derivative(L, n)\n",
    "#                 diffpartial = Derivative(partialderiv2, t)\n",
    "#                 calclagrangian = partialderiv1 - diffpartial\n",
    "#                 eqn = Eq((calclagrangian.doit()), 0)\n",
    "                \n",
    "                #***END***\n",
    "                \n",
    "                #For moving plane\n",
    "                #(M*v**2)/2 + m*(w**2 +(tan(z)**2)*(v+w)**2)/2\n",
    "                #-(m*g*(x + y))* tan(z)\n",
    "                \n",
    "                #(m*(l**2)*(w**2) + x**2 + 2*l*v*w*(cos(y)))/2\n",
    "                # -1/((x2-x1)**2+(y2-y1)**2)**0.5\n",
    "                # (m*v**2)/2 + (m*w**2)/2\n",
    "                # ((vx2-vx1)**2+(vy2-vy1)**2)/2.0\n",
    "               \n",
    "# Derivative(L, k).doit(),  Derivative(L, n).doit()\n",
    "                \n",
    "#(J)(calclagrangian.doit()), (Q), (solv),adiff1, adiff2, eqn -1/((x2-x1)**2.0+(y2-y1)**2.0)**0.5\n",
    "# ((vx2-vx1)**2.0 + (vy2-vy1)**2.0)/2.0"
   ]
  },
  {
   "cell_type": "code",
   "execution_count": 54,
   "metadata": {},
   "outputs": [],
   "source": [
    "\n",
    "###***START***\n",
    "\n",
    "###***END***\n",
    "\n",
    "# t = np.linspace(0,20)\n",
    "# print(acceleration1)\n",
    "# ac1 = acceleration1[0]\n",
    "# print(acceleration1)\n",
    "\n",
    "# ya = [0.75, 0., 0.33, 1/np.sqrt(2),   # [x_1, v_x_1, y_1, v_y_1\n",
    "#      -0.25, 0., 0.33, -1/np.sqrt(2)]\n",
    "acl1= acl1t[0]\n",
    "acl2= acl2t[0]\n",
    "acl3= acl3t[0]\n",
    "acl4= acl4t[0]\n",
    "\n",
    "# print(acl1) # 1\n",
    "# print(acl2) # \n",
    "# print(acl3) # \n",
    "# print(acl4) # \n",
    "# -acl1 # 1\n",
    "# acl2 # \n",
    "# -acl3 # \n",
    "# acl4 # \n",
    "\n",
    "\n",
    "#f = lambda x1 : ac1\n",
    "\n",
    "#f(5)\n",
    "\n",
    "# print(type(ac1))\n",
    "# q1=acl1.subs([(x1,ya[0]),(x2,ya[4]),(y1,ya[2]),(y2,ya[6])])\n",
    "# print(q1)\n",
    "acl1.subs(x1, x1)\n",
    "acl2.subs(x1, x1)\n",
    "acl3.subs(x1, x1)\n",
    "acl4.subs(x1, x1)\n",
    "ya = np.zeros(8)\n",
    "fa = np.zeros(8)\n",
    "#ya=[1.0,0.,0.0,0.3, -1.0,0.,0.,-0.3]"
   ]
  },
  {
   "cell_type": "code",
   "execution_count": 55,
   "metadata": {},
   "outputs": [
    {
     "data": {
      "image/png": "[encoded data removed]",
      "text/latex": [
       "$\\displaystyle 1.0$"
      ],
      "text/plain": [
       "1.0"
      ]
     },
     "execution_count": 55,
     "metadata": {},
     "output_type": "execute_result"
    }
   ],
   "source": [
    "# #rk4a(ya,t,h)\n",
    "#print(type(ya))\n",
    "ya=[1.0,0.,0.0,0.3, -1.0,0.,0.,-0.3]\n",
    "ya[0]"
   ]
  },
  {
   "cell_type": "code",
   "execution_count": 56,
   "metadata": {},
   "outputs": [],
   "source": [
    "def g(acl1,acl2,acl3,acl4,y):\n",
    "    za = np.zeros(4)\n",
    "    za[0]= acl1.subs([(x1,y[0]),(x2,y[4]),(y1,y[2]),(y2,y[6])])\n",
    "    za[1]= acl2.subs([(x1,y[0]),(x2,y[4]),(y1,y[2]),(y2,y[6])])\n",
    "    za[2]= -acl3.subs([(x1,y[0]),(x2,y[4]),(y1,y[2]),(y2,y[6])])\n",
    "    za[3]= -acl4.subs([(x1,y[0]),(x2,y[4]),(y1,y[2]),(y2,y[6])])\n",
    "    return [za[0],za[1],za[2],za[3]]"
   ]
  },
  {
   "cell_type": "code",
   "execution_count": 57,
   "metadata": {},
   "outputs": [
    {
     "name": "stdout",
     "output_type": "stream",
     "text": [
      "[-2.25, 0.0, 2.25, 0.0]\n"
     ]
    }
   ],
   "source": [
    "print(g(acl1,acl2,acl3,acl4,ya))"
   ]
  },
  {
   "cell_type": "code",
   "execution_count": 58,
   "metadata": {},
   "outputs": [],
   "source": [
    "def f3(t,y):       \n",
    "#     q1 = y[0] - y[4]           \n",
    "#     q2 = y[2] - y[6]      \n",
    "    \n",
    "    #R = np.sqrt(q1**2 + q2**2)  \n",
    "    f = np.zeros(8) # This is borrowed from lecture.\n",
    "    z3 =np.zeros(4)\n",
    "    z3 = g(acl1,acl2,acl3,acl4,y)\n",
    "    f[0] = y[1]                \n",
    "    f[1] = z3[0]   \n",
    "    #print(f[1])\n",
    "    f[2] = y[3]               \n",
    "    f[3] = z3[1]        \n",
    "    f[4] = y[5]                \n",
    "    f[5] = z3[2]         \n",
    "    f[6] = y[7]                \n",
    "    f[7] = z3[3]    \n",
    "    return f"
   ]
  },
  {
   "cell_type": "code",
   "execution_count": 59,
   "metadata": {},
   "outputs": [],
   "source": [
    "def rk4b(y,t,h): # h being the interval step\n",
    "    k1=np.zeros(8) # This is borrowed from lecture.\n",
    "    k2=np.zeros(8)\n",
    "    k3=np.zeros(8)\n",
    "    k4=np.zeros(8)\n",
    "\n",
    "    k1 = h*f3(t, y)\n",
    "    k2 = h*f3(t + (1.0/2.0)*h, y + (1.0/2.0)*k1)\n",
    "    k3 = h*f3(t + (1.0/2.0)*h, y + (1.0/2.0)*k2)\n",
    "    k4 = h*f3(t + h, y + k3)\n",
    "    \n",
    "    y = y +  (k1 + 2 * k2 + 2 * k3 + k4)/6.0\n",
    "    \n",
    "    return y"
   ]
  },
  {
   "cell_type": "code",
   "execution_count": 60,
   "metadata": {},
   "outputs": [
    {
     "data": {
      "text/html": [
       "<div id=\"glowscript\" class=\"glowscript\"></div>"
      ],
      "text/plain": [
       "<IPython.core.display.HTML object>"
      ]
     },
     "metadata": {},
     "output_type": "display_data"
    },
    {
     "data": {
      "application/javascript": [
       "if (typeof Jupyter !== \"undefined\") { window.__context = { glowscript_container: $(\"#glowscript\").removeAttr(\"id\")};}else{ element.textContent = ' ';}"
      ],
      "text/plain": [
       "<IPython.core.display.Javascript object>"
      ]
     },
     "metadata": {},
     "output_type": "display_data"
    }
   ],
   "source": [
    "#f3(0,ya)\n",
    "import numpy as np\n",
    "from vpython import * # must import vpython first\n",
    "scene = canvas() # with this you don't need to restart kernel each time\n",
    "gd = graph(x=0, y=0, width=600, height=600, \n",
    "      title='Orbit', xtitle='x', ytitle='y', \n",
    "      foreground=color.black, background=color.white, \n",
    "      xmax=2, xmin=-2, ymax=2, ymin=-2)\n",
    "\n",
    "f1 = gcurve(color=color.cyan)\t# a graphics curve  \n",
    "f2 = gcurve(color=color.green)\t# a graphics curve  \n",
    "\n",
    "#G=1.\n",
    "#M=1.\n",
    "#tend=2.*np.pi\n",
    "#h=0.001\n",
    "#ya=[1.,0.,0.,1.]\n",
    "#t = 0\n",
    "\n",
    "\n",
    "    \n",
    "x1a = []\n",
    "x2a = []\n",
    "y1a = []\n",
    "y2a = []\n",
    "\n",
    "\n",
    "tend = 2*np.pi\n",
    "\n",
    "x1a = []\n",
    "x2a = []\n",
    "y1a = []\n",
    "y2a = []\n",
    "\n",
    "ya=[1.0,0.,0.0,0.3, -1.0,0.,0.,-0.3]\n",
    "ball1 = sphere (pos=vector(1.0,ya[2],0.0), radius=0.33, color=color.red)\n",
    "ball2 = sphere (pos=vector(-1.0,ya[6],0.0), radius=0.33, color=color.red)\n",
    "\n",
    "q1 = ya[0] - ya[4]           \n",
    "q2 = ya[2] - ya[6]  \n",
    "#Rb = np.sqrt(q1**2 + q2**2)  \n",
    "h = 0.01\n",
    "t = 0\n",
    "#tend = np.sqrt(2.0*4.0*(np.pi**2)* (Rb**3))\n",
    "tend = 2.0*np.pi\n",
    "ta = np.pi\n",
    "\n",
    "\n",
    "while(t<tend):\n",
    "    \n",
    "    if((t+h)>tend):\n",
    "        h=tend-ta\n",
    "        \n",
    "    ya = rk4b(ya,t,h)\n",
    "    x1a=np.append(x1a,ya[0])\n",
    "    y1a=np.append(y1a,ya[2])\n",
    "    x2a=np.append(x2a,ya[4])\n",
    "    y2a=np.append(y2a,ya[6])\n",
    "    t = t+h\n",
    "    rate(900)\n",
    "    ball1.pos.x=ya[0]\n",
    "    ball1.pos.y=ya[2]\n",
    "    ball2.pos.x=ya[4]\n",
    "    ball2.pos.y=ya[6]\n",
    "   # ball1 = sphere(pos=vector(ya[0],ya[2],0), color=color.red)  \n",
    "   # ball2 = sphere(pos=vector(ya[0],ya[2],0), color=color.red)    #ball.velocity = vector(0,-1,0)\n",
    "    \n",
    "    #f1.plot(pos=(ya[0],ya[2]))\n",
    "    #f2.plot(pos=(ya[4],ya[6]))\n",
    "    \n",
    "#plt.xlabel(\"x\")\n",
    "#plt.ylabel(\"y\")\n",
    "\n",
    "#plt.plot(x1a,y1a,label=\"Star 1\")\n",
    "#plt.plot(x2a,y2a,label=\"Star 2\")\n",
    "\n",
    "#plt.show()\n"
   ]
  },
  {
   "cell_type": "code",
   "execution_count": 25,
   "metadata": {},
   "outputs": [
    {
     "ename": "AttributeError",
     "evalue": "pos must be a vector",
     "output_type": "error",
     "traceback": [
      "\u001b[1;31m---------------------------------------------------------------------------\u001b[0m",
      "\u001b[1;31mAttributeError\u001b[0m                            Traceback (most recent call last)",
      "\u001b[1;32m<ipython-input-25-cef6cb5a896a>\u001b[0m in \u001b[0;36m<module>\u001b[1;34m\u001b[0m\n\u001b[0;32m      3\u001b[0m \u001b[1;32mimport\u001b[0m \u001b[0mvpython\u001b[0m \u001b[1;32mas\u001b[0m \u001b[0mvp\u001b[0m \u001b[1;31m# \"vp\" is any name of your choice\u001b[0m\u001b[1;33m\u001b[0m\u001b[1;33m\u001b[0m\u001b[0m\n\u001b[0;32m      4\u001b[0m \u001b[1;32mfrom\u001b[0m \u001b[0mvpython\u001b[0m \u001b[1;32mimport\u001b[0m \u001b[0mbox\u001b[0m\u001b[1;33m,\u001b[0m \u001b[0mcolor\u001b[0m\u001b[1;33m\u001b[0m\u001b[1;33m\u001b[0m\u001b[0m\n\u001b[1;32m----> 5\u001b[1;33m \u001b[0mfloor\u001b[0m \u001b[1;33m=\u001b[0m \u001b[0mbox\u001b[0m \u001b[1;33m(\u001b[0m\u001b[0mpos\u001b[0m\u001b[1;33m=\u001b[0m\u001b[1;33m(\u001b[0m\u001b[1;36m0\u001b[0m\u001b[1;33m,\u001b[0m\u001b[1;36m0\u001b[0m\u001b[1;33m,\u001b[0m\u001b[1;36m0\u001b[0m\u001b[1;33m)\u001b[0m\u001b[1;33m,\u001b[0m \u001b[0mlength\u001b[0m\u001b[1;33m=\u001b[0m\u001b[1;36m4\u001b[0m\u001b[1;33m,\u001b[0m \u001b[0mheight\u001b[0m\u001b[1;33m=\u001b[0m\u001b[1;36m0.5\u001b[0m\u001b[1;33m,\u001b[0m \u001b[0mwidth\u001b[0m\u001b[1;33m=\u001b[0m\u001b[1;36m4\u001b[0m\u001b[1;33m,\u001b[0m \u001b[0mcolor\u001b[0m\u001b[1;33m=\u001b[0m\u001b[0mcolor\u001b[0m\u001b[1;33m.\u001b[0m\u001b[0mblue\u001b[0m\u001b[1;33m)\u001b[0m\u001b[1;33m\u001b[0m\u001b[1;33m\u001b[0m\u001b[0m\n\u001b[0m\u001b[0;32m      6\u001b[0m \u001b[0mball\u001b[0m \u001b[1;33m=\u001b[0m \u001b[0msphere\u001b[0m \u001b[1;33m(\u001b[0m\u001b[0mpos\u001b[0m\u001b[1;33m=\u001b[0m\u001b[1;33m(\u001b[0m\u001b[1;36m0\u001b[0m\u001b[1;33m,\u001b[0m\u001b[1;36m4\u001b[0m\u001b[1;33m,\u001b[0m\u001b[1;36m0\u001b[0m\u001b[1;33m)\u001b[0m\u001b[1;33m,\u001b[0m \u001b[0mradius\u001b[0m\u001b[1;33m=\u001b[0m\u001b[1;36m1\u001b[0m\u001b[1;33m,\u001b[0m \u001b[0mcolor\u001b[0m\u001b[1;33m=\u001b[0m\u001b[0mcolor\u001b[0m\u001b[1;33m.\u001b[0m\u001b[0mred\u001b[0m\u001b[1;33m)\u001b[0m\u001b[1;33m\u001b[0m\u001b[1;33m\u001b[0m\u001b[0m\n\u001b[0;32m      7\u001b[0m \u001b[0mball\u001b[0m\u001b[1;33m.\u001b[0m\u001b[0mvelocity\u001b[0m \u001b[1;33m=\u001b[0m \u001b[0mvector\u001b[0m\u001b[1;33m(\u001b[0m\u001b[1;36m0\u001b[0m\u001b[1;33m,\u001b[0m\u001b[1;33m-\u001b[0m\u001b[1;36m1\u001b[0m\u001b[1;33m,\u001b[0m\u001b[1;36m0\u001b[0m\u001b[1;33m)\u001b[0m\u001b[1;33m\u001b[0m\u001b[1;33m\u001b[0m\u001b[0m\n",
      "\u001b[1;32m~\\Anaconda3\\lib\\site-packages\\vpython\\vpython.py\u001b[0m in \u001b[0;36m__init__\u001b[1;34m(self, **args)\u001b[0m\n\u001b[0;32m   1097\u001b[0m         \u001b[0margs\u001b[0m\u001b[1;33m[\u001b[0m\u001b[1;34m'_default_size'\u001b[0m\u001b[1;33m]\u001b[0m \u001b[1;33m=\u001b[0m \u001b[0mvector\u001b[0m\u001b[1;33m(\u001b[0m\u001b[1;36m1\u001b[0m\u001b[1;33m,\u001b[0m\u001b[1;36m1\u001b[0m\u001b[1;33m,\u001b[0m\u001b[1;36m1\u001b[0m\u001b[1;33m)\u001b[0m\u001b[1;33m\u001b[0m\u001b[1;33m\u001b[0m\u001b[0m\n\u001b[0;32m   1098\u001b[0m         \u001b[0margs\u001b[0m\u001b[1;33m[\u001b[0m\u001b[1;34m'_objName'\u001b[0m\u001b[1;33m]\u001b[0m \u001b[1;33m=\u001b[0m \u001b[1;34m\"box\"\u001b[0m\u001b[1;33m\u001b[0m\u001b[1;33m\u001b[0m\u001b[0m\n\u001b[1;32m-> 1099\u001b[1;33m         \u001b[0msuper\u001b[0m\u001b[1;33m(\u001b[0m\u001b[0mbox\u001b[0m\u001b[1;33m,\u001b[0m \u001b[0mself\u001b[0m\u001b[1;33m)\u001b[0m\u001b[1;33m.\u001b[0m\u001b[0msetup\u001b[0m\u001b[1;33m(\u001b[0m\u001b[0margs\u001b[0m\u001b[1;33m)\u001b[0m\u001b[1;33m\u001b[0m\u001b[1;33m\u001b[0m\u001b[0m\n\u001b[0m\u001b[0;32m   1100\u001b[0m \u001b[1;33m\u001b[0m\u001b[0m\n\u001b[0;32m   1101\u001b[0m \u001b[1;32mclass\u001b[0m \u001b[0msphere\u001b[0m\u001b[1;33m(\u001b[0m\u001b[0mstandardAttributes\u001b[0m\u001b[1;33m)\u001b[0m\u001b[1;33m:\u001b[0m\u001b[1;33m\u001b[0m\u001b[1;33m\u001b[0m\u001b[0m\n",
      "\u001b[1;32m~\\Anaconda3\\lib\\site-packages\\vpython\\vpython.py\u001b[0m in \u001b[0;36msetup\u001b[1;34m(self, args)\u001b[0m\n\u001b[0;32m    627\u001b[0m                 \u001b[0mval\u001b[0m \u001b[1;33m=\u001b[0m \u001b[0margs\u001b[0m\u001b[1;33m[\u001b[0m\u001b[0ma\u001b[0m\u001b[1;33m]\u001b[0m\u001b[1;33m\u001b[0m\u001b[1;33m\u001b[0m\u001b[0m\n\u001b[0;32m    628\u001b[0m                 \u001b[1;32mif\u001b[0m \u001b[0misinstance\u001b[0m\u001b[1;33m(\u001b[0m\u001b[0mval\u001b[0m\u001b[1;33m,\u001b[0m \u001b[0mvector\u001b[0m\u001b[1;33m)\u001b[0m\u001b[1;33m:\u001b[0m \u001b[0msetattr\u001b[0m\u001b[1;33m(\u001b[0m\u001b[0mself\u001b[0m\u001b[1;33m,\u001b[0m \u001b[1;34m'_'\u001b[0m\u001b[1;33m+\u001b[0m\u001b[0ma\u001b[0m\u001b[1;33m,\u001b[0m \u001b[0mvector\u001b[0m\u001b[1;33m(\u001b[0m\u001b[0mval\u001b[0m\u001b[1;33m)\u001b[0m\u001b[1;33m)\u001b[0m  \u001b[1;31m## '_' bypasses setters; copy of val\u001b[0m\u001b[1;33m\u001b[0m\u001b[1;33m\u001b[0m\u001b[0m\n\u001b[1;32m--> 629\u001b[1;33m                 \u001b[1;32melse\u001b[0m\u001b[1;33m:\u001b[0m \u001b[1;32mraise\u001b[0m \u001b[0mAttributeError\u001b[0m\u001b[1;33m(\u001b[0m\u001b[0ma\u001b[0m\u001b[1;33m+\u001b[0m\u001b[1;34m' must be a vector'\u001b[0m\u001b[1;33m)\u001b[0m\u001b[1;33m\u001b[0m\u001b[1;33m\u001b[0m\u001b[0m\n\u001b[0m\u001b[0;32m    630\u001b[0m                 \u001b[1;32mdel\u001b[0m \u001b[0margs\u001b[0m\u001b[1;33m[\u001b[0m\u001b[0ma\u001b[0m\u001b[1;33m]\u001b[0m\u001b[1;33m\u001b[0m\u001b[1;33m\u001b[0m\u001b[0m\n\u001b[0;32m    631\u001b[0m \u001b[1;33m\u001b[0m\u001b[0m\n",
      "\u001b[1;31mAttributeError\u001b[0m: pos must be a vector"
     ]
    }
   ],
   "source": [
    "#from visual import *\n",
    "import vpython\n",
    "import vpython as vp # \"vp\" is any name of your choice\n",
    "from vpython import box, color\n",
    "floor = box (pos=(0,0,0), length=4, height=0.5, width=4, color=color.blue)\n",
    "ball = sphere (pos=(0,4,0), radius=1, color=color.red)\n",
    "ball.velocity = vector(0,-1,0)\n",
    "dt = 0.01\n",
    "\n",
    "while 1:\n",
    "    rate (100)\n",
    "    ball.pos = ball.pos + ball.velocity*dt\n",
    "    if ball.y < ball.radius:\n",
    "        ball.velocity.y = abs(ball.velocity.y)\n",
    "    else:\n",
    "        ball.velocity.y = ball.velocity.y - 9.8*dt"
   ]
  },
  {
   "cell_type": "code",
   "execution_count": 46,
   "metadata": {},
   "outputs": [
    {
     "data": {
      "text/html": [
       "<div id=\"glowscript\" class=\"glowscript\"></div>"
      ],
      "text/plain": [
       "<IPython.core.display.HTML object>"
      ]
     },
     "metadata": {},
     "output_type": "display_data"
    },
    {
     "data": {
      "application/javascript": [
       "if (typeof Jupyter !== \"undefined\") { window.__context = { glowscript_container: $(\"#glowscript\").removeAttr(\"id\")};}else{ element.textContent = ' ';}"
      ],
      "text/plain": [
       "<IPython.core.display.Javascript object>"
      ]
     },
     "metadata": {},
     "output_type": "display_data"
    },
    {
     "ename": "KeyboardInterrupt",
     "evalue": "",
     "output_type": "error",
     "traceback": [
      "\u001b[1;31m---------------------------------------------------------------------------\u001b[0m",
      "\u001b[1;31mKeyboardInterrupt\u001b[0m                         Traceback (most recent call last)",
      "\u001b[1;32m<ipython-input-46-6abc136dce23>\u001b[0m in \u001b[0;36m<module>\u001b[1;34m\u001b[0m\n\u001b[0;32m     13\u001b[0m \u001b[0mdt\u001b[0m \u001b[1;33m=\u001b[0m \u001b[1;36m0.01\u001b[0m\u001b[1;33m\u001b[0m\u001b[1;33m\u001b[0m\u001b[0m\n\u001b[0;32m     14\u001b[0m \u001b[1;32mwhile\u001b[0m \u001b[1;36m1\u001b[0m\u001b[1;33m:\u001b[0m\u001b[1;33m\u001b[0m\u001b[1;33m\u001b[0m\u001b[0m\n\u001b[1;32m---> 15\u001b[1;33m     \u001b[0mrate\u001b[0m\u001b[1;33m(\u001b[0m\u001b[1;36m100\u001b[0m\u001b[1;33m)\u001b[0m\u001b[1;33m\u001b[0m\u001b[1;33m\u001b[0m\u001b[0m\n\u001b[0m\u001b[0;32m     16\u001b[0m     \u001b[0mball\u001b[0m\u001b[1;33m.\u001b[0m\u001b[0mpos\u001b[0m \u001b[1;33m=\u001b[0m \u001b[0mball\u001b[0m\u001b[1;33m.\u001b[0m\u001b[0mpos\u001b[0m \u001b[1;33m+\u001b[0m \u001b[0mball\u001b[0m\u001b[1;33m.\u001b[0m\u001b[0mvelocity\u001b[0m\u001b[1;33m*\u001b[0m\u001b[0mdt\u001b[0m\u001b[1;33m\u001b[0m\u001b[1;33m\u001b[0m\u001b[0m\n\u001b[0;32m     17\u001b[0m     \u001b[1;32mif\u001b[0m \u001b[0mball\u001b[0m\u001b[1;33m.\u001b[0m\u001b[0mpos\u001b[0m\u001b[1;33m.\u001b[0m\u001b[0my\u001b[0m \u001b[1;33m<\u001b[0m \u001b[1;36m1\u001b[0m\u001b[1;33m:\u001b[0m\u001b[1;33m\u001b[0m\u001b[1;33m\u001b[0m\u001b[0m\n",
      "\u001b[1;32m~\\Anaconda3\\lib\\site-packages\\vpython\\rate_control.py\u001b[0m in \u001b[0;36m__call__\u001b[1;34m(self, N)\u001b[0m\n\u001b[0;32m    264\u001b[0m         \u001b[0mself\u001b[0m\u001b[1;33m.\u001b[0m\u001b[0mrval\u001b[0m \u001b[1;33m=\u001b[0m \u001b[0mN\u001b[0m\u001b[1;33m\u001b[0m\u001b[1;33m\u001b[0m\u001b[0m\n\u001b[0;32m    265\u001b[0m         \u001b[1;32mif\u001b[0m \u001b[0mself\u001b[0m\u001b[1;33m.\u001b[0m\u001b[0mrval\u001b[0m \u001b[1;33m<\u001b[0m \u001b[1;36m1\u001b[0m\u001b[1;33m:\u001b[0m \u001b[1;32mraise\u001b[0m \u001b[0mValueError\u001b[0m\u001b[1;33m(\u001b[0m\u001b[1;34m\"rate value must be greater than or equal to 1\"\u001b[0m\u001b[1;33m)\u001b[0m\u001b[1;33m\u001b[0m\u001b[1;33m\u001b[0m\u001b[0m\n\u001b[1;32m--> 266\u001b[1;33m         \u001b[0msuper\u001b[0m\u001b[1;33m(\u001b[0m\u001b[0m_RateKeeper2\u001b[0m\u001b[1;33m,\u001b[0m \u001b[0mself\u001b[0m\u001b[1;33m)\u001b[0m\u001b[1;33m.\u001b[0m\u001b[0m__call__\u001b[0m\u001b[1;33m(\u001b[0m\u001b[0mself\u001b[0m\u001b[1;33m.\u001b[0m\u001b[0mrval\u001b[0m\u001b[1;33m)\u001b[0m \u001b[1;31m## calls __call__ in rate_control.py\u001b[0m\u001b[1;33m\u001b[0m\u001b[1;33m\u001b[0m\u001b[0m\n\u001b[0m\u001b[0;32m    267\u001b[0m \u001b[1;33m\u001b[0m\u001b[0m\n\u001b[0;32m    268\u001b[0m \u001b[1;33m\u001b[0m\u001b[0m\n",
      "\u001b[1;32m~\\Anaconda3\\lib\\site-packages\\vpython\\rate_control.py\u001b[0m in \u001b[0;36m__call__\u001b[1;34m(self, maxRate)\u001b[0m\n\u001b[0;32m    218\u001b[0m             \u001b[0mdt\u001b[0m \u001b[1;33m=\u001b[0m \u001b[0mself\u001b[0m\u001b[1;33m.\u001b[0m\u001b[0mlastSleep\u001b[0m \u001b[1;33m+\u001b[0m \u001b[0mself\u001b[0m\u001b[1;33m.\u001b[0m\u001b[0mcalls\u001b[0m\u001b[1;33m*\u001b[0m\u001b[1;33m(\u001b[0m\u001b[0mself\u001b[0m\u001b[1;33m.\u001b[0m\u001b[0muserTime\u001b[0m \u001b[1;33m+\u001b[0m \u001b[0mself\u001b[0m\u001b[1;33m.\u001b[0m\u001b[0mcallTime\u001b[0m \u001b[1;33m+\u001b[0m \u001b[0mself\u001b[0m\u001b[1;33m.\u001b[0m\u001b[0mdelay\u001b[0m\u001b[1;33m)\u001b[0m \u001b[1;33m+\u001b[0m\u001b[0;31m \u001b[0m\u001b[0;31m\\\u001b[0m\u001b[1;33m\u001b[0m\u001b[1;33m\u001b[0m\u001b[0m\n\u001b[0;32m    219\u001b[0m                  \u001b[0mrenders\u001b[0m\u001b[1;33m*\u001b[0m\u001b[0mself\u001b[0m\u001b[1;33m.\u001b[0m\u001b[0mrenderTime\u001b[0m \u001b[1;33m+\u001b[0m \u001b[0msleeps\u001b[0m\u001b[1;33m*\u001b[0m\u001b[0mself\u001b[0m\u001b[1;33m.\u001b[0m\u001b[0minteractionPeriod\u001b[0m \u001b[1;33m-\u001b[0m \u001b[0m_clock\u001b[0m\u001b[1;33m(\u001b[0m\u001b[1;33m)\u001b[0m\u001b[1;33m\u001b[0m\u001b[1;33m\u001b[0m\u001b[0m\n\u001b[1;32m--> 220\u001b[1;33m             \u001b[0m_sleep\u001b[0m\u001b[1;33m(\u001b[0m\u001b[0mdt\u001b[0m\u001b[1;33m)\u001b[0m\u001b[1;33m\u001b[0m\u001b[1;33m\u001b[0m\u001b[0m\n\u001b[0m\u001b[0;32m    221\u001b[0m             \u001b[0mself\u001b[0m\u001b[1;33m.\u001b[0m\u001b[0mlastSleep\u001b[0m \u001b[1;33m=\u001b[0m \u001b[0m_clock\u001b[0m\u001b[1;33m(\u001b[0m\u001b[1;33m)\u001b[0m\u001b[1;33m\u001b[0m\u001b[1;33m\u001b[0m\u001b[0m\n\u001b[0;32m    222\u001b[0m             \u001b[0mself\u001b[0m\u001b[1;33m.\u001b[0m\u001b[0mcalls\u001b[0m \u001b[1;33m=\u001b[0m \u001b[1;36m0\u001b[0m\u001b[1;33m\u001b[0m\u001b[1;33m\u001b[0m\u001b[0m\n",
      "\u001b[1;32m~\\Anaconda3\\lib\\site-packages\\vpython\\rate_control.py\u001b[0m in \u001b[0;36m_sleep\u001b[1;34m(dt)\u001b[0m\n\u001b[0;32m     66\u001b[0m         \u001b[1;32mreturn\u001b[0m\u001b[1;33m\u001b[0m\u001b[1;33m\u001b[0m\u001b[0m\n\u001b[0;32m     67\u001b[0m     \u001b[0mtend\u001b[0m \u001b[1;33m=\u001b[0m \u001b[0m_clock\u001b[0m\u001b[1;33m(\u001b[0m\u001b[1;33m)\u001b[0m\u001b[1;33m+\u001b[0m\u001b[0mdt\u001b[0m\u001b[1;33m\u001b[0m\u001b[1;33m\u001b[0m\u001b[0m\n\u001b[1;32m---> 68\u001b[1;33m     \u001b[1;32mwhile\u001b[0m \u001b[0m_clock\u001b[0m\u001b[1;33m(\u001b[0m\u001b[1;33m)\u001b[0m \u001b[1;33m<\u001b[0m \u001b[0mtend\u001b[0m\u001b[1;33m:\u001b[0m\u001b[1;33m\u001b[0m\u001b[1;33m\u001b[0m\u001b[0m\n\u001b[0m\u001b[0;32m     69\u001b[0m         \u001b[1;32mpass\u001b[0m\u001b[1;33m\u001b[0m\u001b[1;33m\u001b[0m\u001b[0m\n\u001b[0;32m     70\u001b[0m \u001b[1;33m\u001b[0m\u001b[0m\n",
      "\u001b[1;31mKeyboardInterrupt\u001b[0m: "
     ]
    }
   ],
   "source": [
    "scene = canvas() # with this you don't need to restart kernel each time\n",
    "gd = graph(x=0, y=0, width=600, height=600, \n",
    "      title='Orbit', xtitle='x', ytitle='y', \n",
    "      foreground=color.black, background=color.white, \n",
    "      xmax=2, xmin=-2, ymax=2, ymin=-2)\n",
    "\n",
    "\n",
    "floor = box(length=4, height=0.5, width=4, color=color.blue)\n",
    "\n",
    "ball = sphere(pos=vector(0,4,0), color=color.red)\n",
    "ball.velocity = vector(0,-1,0)\n",
    "\n",
    "dt = 0.01\n",
    "while 1:\n",
    "    rate(100)\n",
    "    ball.pos = ball.pos + ball.velocity*dt\n",
    "    if ball.pos.y < 1:\n",
    "        ball.velocity.y = -ball.velocity.y\n",
    "    else:\n",
    "        ball.velocity.y = ball.velocity.y - 9.8*dt"
   ]
  },
  {
   "cell_type": "code",
   "execution_count": 44,
   "metadata": {},
   "outputs": [
    {
     "data": {
      "text/html": [
       "<div id=\"glowscript\" class=\"glowscript\"></div>"
      ],
      "text/plain": [
       "<IPython.core.display.HTML object>"
      ]
     },
     "metadata": {},
     "output_type": "display_data"
    },
    {
     "data": {
      "application/javascript": [
       "if (typeof Jupyter !== \"undefined\") { window.__context = { glowscript_container: $(\"#glowscript\").removeAttr(\"id\")};}else{ element.textContent = ' ';}"
      ],
      "text/plain": [
       "<IPython.core.display.Javascript object>"
      ]
     },
     "metadata": {},
     "output_type": "display_data"
    }
   ],
   "source": [
    "scene = canvas() # with this you don't need to restart kernel each time\n",
    "gd = graph(x=0, y=0, width=600, height=600, \n",
    "      title='Orbit', xtitle='x', ytitle='y', \n",
    "      foreground=color.black, background=color.white, \n",
    "      xmax=2, xmin=-2, ymax=2, ymin=-2)\n",
    "\n",
    "\n",
    "ball = sphere(pos=vector(-5,0,0), radius=0.5,color=color.cyan)\n",
    "wallR = box(pos=vector(6,0,0), size=vector(0.2,12,12), color=color.green)\n",
    "ball.velocity = vector(25,0,0)\n",
    "deltat = 0.005\n",
    "t = 0\n",
    "ball.pos = ball.pos + ball.velocity*deltat\n",
    "while t < 3:\n",
    "    rate(100)\n",
    "    if ball.pos.x > wallR.pos.x:\n",
    "        ball.velocity.x = -ball.velocity.x\n",
    "    ball.pos = ball.pos + ball.velocity*deltat #t = t + deltat\n",
    "    t = t + deltat "
   ]
  },
  {
   "cell_type": "code",
   "execution_count": null,
   "metadata": {},
   "outputs": [],
   "source": []
  }
 ],
 "metadata": {
  "kernelspec": {
   "display_name": "Python 3",
   "language": "python",
   "name": "python3"
  },
  "language_info": {
   "codemirror_mode": {
    "name": "ipython",
    "version": 3
   },
   "file_extension": ".py",
   "mimetype": "text/x-python",
   "name": "python",
   "nbconvert_exporter": "python",
   "pygments_lexer": "ipython3",
   "version": "3.7.4"
  }
 },
 "nbformat": 4,
 "nbformat_minor": 2
}
