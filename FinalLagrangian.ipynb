{
 "cells": [
  {
   "cell_type": "code",
   "execution_count": 5,
   "metadata": {},
   "outputs": [],
   "source": [
    "# x(2)\n",
    "# ac1.subs(x1, 5)\n",
    "# expr.subs([(x, 2), (y, 4), (z, 0)])\n",
    "\n",
    "\n",
    "# def f(t, y, acl1,acl2,acl3,acl4):\n",
    "#     # GM_i = 1,    i = 1,2\n",
    "#     #rx = y[0] - y[4]           # Displacement vector components\n",
    "#     #ry = y[2] - y[6]           # from 2 to 1\n",
    "#     #r = np.sqrt(rx**2 + ry**2) # magnitude of DV\n",
    "#     f = np.zeros(8)\n",
    "#     f[0] = y[1]                # dx_1/dt = v_x_1\n",
    "#     f[1] = acl1.subs([(x1,y[0]),(x2,y[4]),(y1,y[2]),(y2,y[6])])  # dv_x_1/dt = F12_x = -GMr_x/r^3\n",
    "#     f[2] = y[3]                # dy_1/dt = v_y_1\n",
    "#     f[3] = acl2.subs([(x1,y[0]),(x2,y[4]),(y1,y[2]),(y2,y[6])])       # dv_y_1/dt = F12_y = -GMr_y/r^3\n",
    "#     f[4] = y[5]                # dx_2/dt = v_x_2\n",
    "#     f[5] = acl3.subs([(x1,y[0]),(x2,y[4]),(y1,y[2]),(y2,y[6])])        # dv_x_2/dt = F21_x = -F12_x\n",
    "#     f[6] = y[7]                # dy/dt = v_y\n",
    "#     f[7] = acl4.subs([(x1,y[0]),(x2,y[4]),(y1,y[2]),(y2,y[6])])       # dv_y_2/dt = F21_y = -F12_y\n",
    "#     return f\n",
    "\n",
    "# So we have y[0]=x, y[1]=v_{x}, y[2]=y, y[3]=v_{y}\n",
    "# import numpy as np\n",
    "# from vpython import * # must import vpython first\n",
    "\n",
    "# scene = canvas() # with this you don't need to restart kernel each time\n",
    "# gd = graph(x=0, y=0, width=600, height=600, \n",
    "#       title='Orbit', xtitle='x', ytitle='y', \n",
    "#       foreground=color.black, background=color.white, \n",
    "#       xmax=2, xmin=-2, ymax=2, ymin=-2)\n",
    "\n",
    "# f1 = gcurve(color=color.cyan)\t# a graphics curve  \n",
    "\n",
    "# G=1.\n",
    "# M=1.\n",
    "# tend=2.*np.pi\n",
    "# h=0.001\n",
    "# y=[1.,0.,0.,1.]\n",
    "# t=0\n",
    "\n",
    "\n",
    "# #f(t, ya, acl1,acl2,acl3,acl4)\n",
    "\n",
    "# # def f(t, y):\n",
    "# #     f=np.zeros(4)\n",
    "# #     r=np.sqrt(y[0]*y[0]+y[2]*y[2])\n",
    "# #     f[0]=y[1]\n",
    "# #     f[1]=-G*M/r/r/r*y[0]\n",
    "# #     f[2]=y[3]\n",
    "# #     f[3]=-G*M/r/r/r*y[2]\n",
    "# #     return f\n",
    "    \n",
    "# # def eu(t, h, y, n):\n",
    "# #     y+=h*f(t,y)\n",
    "# #     return y\n",
    "# #     # write Euler method\n",
    "        \n",
    "# # while(t<tend):\n",
    "# #     if((t+h)>tend):\n",
    "# #         h=tend-ta\n",
    "# #     y = eu(t,h,y,4)\n",
    "# #     t = t+h\n",
    "# #     rate(500)\n",
    "# #     f1.plot(pos=(y[0],y[2]))\n",
    "    \n",
    "# x1a = []\n",
    "# x2a = []\n",
    "# y1a = []\n",
    "# y2a = []\n",
    "\n",
    "# y=[1.0,0.,0.0,0.3, -1.0,0.,0.,-0.3]\n",
    "# q1 = y[0] - y[4]           \n",
    "# q2 = y[2] - y[6]  \n",
    "# Rb = np.sqrt(q1**2 + q2**2)  \n",
    "# h = 0.01\n",
    "# t= 0\n",
    "# tend = np.sqrt(2.0*4.0*(np.pi**2)* (Rb**3))\n",
    "\n",
    "\n",
    "\n",
    "# while(t<tend):\n",
    "    \n",
    "#     if((t+h)>tend):\n",
    "#         h=tend-t\n",
    "#         ya =rk4(t,h,ya,f)\n",
    "# #     y = rk4(ya,t,h)\n",
    "#     x1a=np.append(x1a,ya[0])\n",
    "#     y1a=np.append(y1a,ya[2])\n",
    "#     x2a=np.append(x2a,ya[4])\n",
    "#     y2a=np.append(y2a,ya[6])\n",
    "#     t = t+h\n",
    "    \n",
    "# plt.xlabel(\"x\")\n",
    "# plt.ylabel(\"y\")\n",
    "\n",
    "# plt.plot(x1a,y1a,label=\"Star 1\")\n",
    "# plt.plot(x2a,y2a,label=\"Star 2\")\n",
    "\n",
    "# plt.show()\n",
    "\n",
    "# def rk4a(y,t,h): # h being the interval step\n",
    "#     k1=np.zeros(8) # This is borrowed from lecture.\n",
    "#     k2=np.zeros(8)\n",
    "#     k3=np.zeros(8)\n",
    "#     k4=np.zeros(8)\n",
    "\n",
    "#     k1 = h*f(t, y, acl1,acl2,acl3,acl4)\n",
    "#     k2 = h*f(t + (1.0/2.0)*h, y + (1.0/2.0)*k1, acl1,acl2,acl3,acl4)\n",
    "#     k3 = h*f(t + (1.0/2.0)*h, y + (1.0/2.0)*k2, acl1,acl2,acl3,acl4)\n",
    "#     k4 = h*f(t + h, y + k3, acl1,acl2,acl3,acl4)\n",
    "    \n",
    "#     y = y +  (k1 + 2 * k2 + 2 * k3 + k4)/6.0\n",
    "    \n",
    "#     return y\n",
    "# x1a = []\n",
    "# x2a = []\n",
    "# y1a = []\n",
    "# y2a = []\n",
    "\n",
    "# ya=[1.0,0.,0.0,0.3, -1.0,0.,0.,-0.3]\n",
    "# q1 = ya[0] - ya[4]           \n",
    "# q2 = ya[2] - ya[6]  \n",
    "# Rb = np.sqrt(q1**2 + q2**2)  \n",
    "# h = 0.01\n",
    "# t= 0\n",
    "# tend = np.sqrt(2.0*4.0*(np.pi**2)* (Rb**3))\n",
    "\n",
    "\n",
    "\n",
    "# while(t<tend):\n",
    "    \n",
    "#     if((t+h)>tend):\n",
    "#         h=tend-t\n",
    "#     ya = rk4a(ya,t,h)\n",
    "#     x1a=np.append(x1a,ya[0])\n",
    "#     y1a=np.append(y1a,ya[2])\n",
    "#     x2a=np.append(x2a,ya[4])\n",
    "#     y2a=np.append(y2a,ya[6])\n",
    "#     t = t+h\n",
    "    \n",
    "# plt.xlabel(\"x\")\n",
    "# plt.ylabel(\"y\")\n",
    "\n",
    "# plt.plot(x1a,y1a,label=\"Star 1\")\n",
    "# plt.plot(x2a,y2a,label=\"Star 2\")\n",
    "\n",
    "# plt.show()\n",
    "    "
   ]
  },
  {
   "cell_type": "code",
   "execution_count": 6,
   "metadata": {
    "scrolled": false
   },
   "outputs": [],
   "source": [
    "# # So we have y[0]=x, y[1]=v_{x}, y[2]=y, y[3]=v_{y}\n",
    "# import numpy as np\n",
    "# from vpython import * # must import vpython first\n",
    "\n",
    "# scene = canvas() # with this you don't need to restart kernel each time\n",
    "# gd = graph(x=0, y=0, width=600, height=600, \n",
    "#       title='Orbit', xtitle='x', ytitle='y', \n",
    "#       foreground=color.black, background=color.white, \n",
    "#       xmax=2, xmin=-2, ymax=2, ymin=-2)\n",
    "\n",
    "# f1 = gcurve(color=color.cyan)\t# a graphics curve  \n",
    "\n",
    "# G=1.\n",
    "# M=1.\n",
    "# tend=0.5*np.pi\n",
    "# h=0.001\n",
    "# y=[1.,0.,0.,1.]\n",
    "# t=0\n",
    "# ta = np.pi\n",
    "# def f(t, y):\n",
    "#     f=np.zeros(4)\n",
    "#     r=np.sqrt(y[0]*y[0]+y[2]*y[2])\n",
    "#     f[0]=y[1]\n",
    "#     f[1]=-G*M/r/r/r*y[0]\n",
    "#     f[2]=y[3]\n",
    "#     f[3]=-G*M/r/r/r*y[2]\n",
    "#     return f\n",
    "    \n",
    "# def eu(t, h, y, n):\n",
    "#     y+=h*f(t,y)\n",
    "#     return y\n",
    "#     # write Euler method\n",
    "        \n",
    "# while(t<tend):\n",
    "#     if((t+h)>tend):\n",
    "#         h=tend-ta\n",
    "#     y = eu(t,h,y,4)\n",
    "#     t = t+h\n",
    "#     rate(500)\n",
    "#     f1.plot(pos=(y[0],y[2]))\n",
    "    "
   ]
  },
  {
   "cell_type": "code",
   "execution_count": 7,
   "metadata": {},
   "outputs": [
    {
     "data": {
      "text/html": [
       "<div id=\"glowscript\" class=\"glowscript\"></div>"
      ],
      "text/plain": [
       "<IPython.core.display.HTML object>"
      ]
     },
     "metadata": {},
     "output_type": "display_data"
    },
    {
     "data": {
      "application/javascript": [
       "if (typeof Jupyter !== \"undefined\") { window.__context = { glowscript_container: $(\"#glowscript\").removeAttr(\"id\")};}else{ element.textContent = ' ';}"
      ],
      "text/plain": [
       "<IPython.core.display.Javascript object>"
      ]
     },
     "metadata": {},
     "output_type": "display_data"
    }
   ],
   "source": [
    "%matplotlib inline\n",
    "\n",
    "#from sympy import Eq, Symbol, solve, Derivative, function, init_printing\n",
    "\n",
    "#from math import sin, cos, tan, asin\n",
    "\n",
    "#from sympy import latex\n",
    "\n",
    "import numpy as np\n",
    "\n",
    "import matplotlib.pyplot as plt\n",
    "\n",
    "#import sympy\n",
    "\n",
    "from sympy import *\n",
    "\n",
    "import string\n",
    "from vpython import * \n"
   ]
  },
  {
   "cell_type": "code",
   "execution_count": 10,
   "metadata": {
    "scrolled": false
   },
   "outputs": [
    {
     "name": "stdout",
     "output_type": "stream",
     "text": [
      "Respect to: t\n",
      "The Potential Energy: \n",
      "The Kinetic Energy: \n",
      "Position Variable(s), (i.e. x, r, theta,...): \n",
      "\n",
      "Velocity Variable(s), (i.e. x_dot , y_dot ,v_x , v_y,...): \n",
      "\n"
     ]
    },
    {
     "data": {
      "image/png": "[encoded data removed]",
      "text/plain": [
       "<Figure size 432x288 with 2 Axes>"
      ]
     },
     "metadata": {
      "needs_background": "light"
     },
     "output_type": "display_data"
    },
    {
     "data": {
      "image/png": "[encoded data removed]",
      "text/plain": [
       "<Figure size 432x288 with 2 Axes>"
      ]
     },
     "metadata": {
      "needs_background": "light"
     },
     "output_type": "display_data"
    },
    {
     "data": {
      "image/png": "[encoded data removed]",
      "text/plain": [
       "<Figure size 432x288 with 2 Axes>"
      ]
     },
     "metadata": {
      "needs_background": "light"
     },
     "output_type": "display_data"
    },
    {
     "data": {
      "image/png": "[encoded data removed]",
      "text/plain": [
       "<Figure size 432x288 with 2 Axes>"
      ]
     },
     "metadata": {
      "needs_background": "light"
     },
     "output_type": "display_data"
    },
    {
     "data": {
      "image/png": "[encoded data removed]",
      "text/plain": [
       "<Figure size 432x288 with 2 Axes>"
      ]
     },
     "metadata": {
      "needs_background": "light"
     },
     "output_type": "display_data"
    },
    {
     "data": {
      "image/png": "[encoded data removed]",
      "text/plain": [
       "<Figure size 432x288 with 2 Axes>"
      ]
     },
     "metadata": {
      "needs_background": "light"
     },
     "output_type": "display_data"
    }
   ],
   "source": [
    "init_printing(use_unicode=True, wrap_line=True)  \n",
    "ignored = set(string.punctuation + string.whitespace)\n",
    "\n",
    "t = Symbol(\"t\")\n",
    "L = Symbol(\"L\")\n",
    "U = Symbol('U')\n",
    "T = Symbol('T')\n",
    "m = Symbol('m', integer=True)\n",
    "g = Symbol('g', integer=True)\n",
    "l = Symbol('l')\n",
    "yes = not(ignored)\n",
    "\n",
    "y = Symbol(\"y\")\n",
    "z = Symbol(\"z\")\n",
    "x = Symbol(\"x\")\n",
    "\n",
    "J = Function(\"Equations\"  \"Of\" ' ' \"Motion\"\"=>\")\n",
    "\n",
    "x1 = Function('x1')(t)\n",
    "x2 = Function('x2')(t) \n",
    "#x3 = Function('x3')(t) \n",
    "y1 = Function('y1')(t)\n",
    "y2 = Function('y2')(t)\n",
    "#y3 = Function('y3')(t)\n",
    "z1 = Function('z1')(t)\n",
    "z2 = Function('z2')(t)\n",
    "#z3 = Function('z3')(t)\n",
    "\n",
    "vx1 = Function('vx1')(t)\n",
    "vx2 = Function('vx2')(t) \n",
    "#vx3 = Function('vx3')(t)\n",
    "vy1 = Function('vy1')(t)\n",
    "vy2 = Function('vy2')(t)\n",
    "#vy3 = Function('vy3')(t\n",
    "vz1 = Function('vz1')(t) \n",
    "vz2 = Function('vz2')(t) \n",
    "#vz3 = Function('vz3')(t) \n",
    "\n",
    "\n",
    "# s = [x1,y1,x2,y2]\n",
    "# i = [vx1,vy1,vx2,vy2]\n",
    "\n",
    "s = [x1,y1,z1,x2,y2,z2]\n",
    "i = [vx1,vy1,vz1,vx2,vy2,vz2]\n",
    "\n",
    "# s = [x1,y1,z1,x2,y2,z2,x3,y3,z3]\n",
    "# i = [vx1,vy1,vz1,vx2,vy2,vz2,vx3,vy3,vz3]\n",
    "\n",
    "\n",
    "rspt = input(\"Respect to: \")\n",
    "t = eval(rspt)\n",
    "#These defaults I made are for a spring pendulum.\n",
    "u = input(\"The Potential Energy: \")\n",
    "if u == \"\":#-1/((x2-x1)**2.0+(y2-y1)**2.0 + (z2-z1)**2.0)**0.5\n",
    "    U = eval(\" -1/((x2-x1)**2 + (y2-y1)**2 +(z2-z1)**2)**0.5 \")\n",
    "else: # (-x1 + x1**2.0)/2.0 (x2-x1)**2.0+(y2-y1)**2.0 + (z2-z1)**2.0\n",
    "    U = eval(u) \n",
    "H = input(\"The Kinetic Energy: \")                \n",
    "if H == \"\":\n",
    "    T = eval(\"((vx2-vx1)**2.0 + (vy2-vy1)**2.0 + (vz2-vz1)**2.0 )/2.0\")\n",
    "else:#((vx2-vx1)**2.0 + (vy2-vy1)**2.0)/2.0 (vx1**2)/2.0\n",
    "    T = eval(H)\n",
    "#((vx2-vx1)**2.0 + (vy2-vy1)**2.0 + (vz2-vz1)**2.0 )/2.0\n",
    "\n",
    "x1 = Function('x1')(t)\n",
    "x2 = Function('x2')(t) \n",
    "#x3 = Function('x3')(t) \n",
    "y1 = Function('y1')(t)\n",
    "y2 = Function('y2')(t)\n",
    "#y3 = Function('y3')(t)\n",
    "z1 = Function('z1')(t)\n",
    "z2 = Function('z2')(t)\n",
    "#z3 = Function('z3')(t)\n",
    "\n",
    "vx1 = Function('vx1')(t)\n",
    "vx2 = Function('vx2')(t) \n",
    "#vx3 = Function('vx3')(t)\n",
    "vy1 = Function('vy1')(t)\n",
    "vy2 = Function('vy2')(t)\n",
    "#vy3 = Function('vy3')(t\n",
    "vz1 = Function('vz1')(t) \n",
    "vz2 = Function('vz2')(t) \n",
    "#vz3 = Function('vz3')(t) \n",
    "\n",
    "L = T - U\n",
    "\n",
    "print(input(\"Position Variable(s), (i.e. x, r, theta,...): \"))\n",
    "print(input(\"Velocity Variable(s), (i.e. x_dot , y_dot ,v_x , v_y,...): \"))\n",
    "#s = input(\"Position Variable(s), (i.e. x, r, theta,...): \")\n",
    "#s = s.replace(\" \",\"\")\n",
    "#i = input(\"Velocity Variable(s), (i.e. x_dot , y_dot ,v_x , v_y,...): \")\n",
    "\n",
    "\n",
    "# s = [x1,y1,z1,x2,y2,z2,x3,y3,z3]\n",
    "# i = [vx1,vy1,vz1,vx2,vy2,vz2,vx3,vy3,vz3]\n",
    "\n",
    "s = [x1,y1,z1,x2,y2,z2]\n",
    "i = [vx1,vy1,vz1,vx2,vy2,vz2]\n",
    "# s = [x1,y1,x2,y2]\n",
    "# i = [vx1,vy1,vx2,vy2]\n",
    "#i = i.replace(\" \",\"\")\n",
    "\n",
    "x1 = Function('x1')(t)\n",
    "x2 = Function('x2')(t) \n",
    "#x3 = Function('x3')(t) \n",
    "y1 = Function('y1')(t)\n",
    "y2 = Function('y2')(t)\n",
    "#y3 = Function('y3')(t)\n",
    "z1 = Function('z1')(t)\n",
    "z2 = Function('z2')(t)\n",
    "#z3 = Function('z3')(t)\n",
    "\n",
    "vx1 = Function('vx1')(t)\n",
    "vx2 = Function('vx2')(t) \n",
    "#vx3 = Function('vx3')(t)\n",
    "vy1 = Function('vy1')(t)\n",
    "vy2 = Function('vy2')(t)\n",
    "#vy3 = Function('vy3')(t\n",
    "vz1 = Function('vz1')(t) \n",
    "vz2 = Function('vz2')(t) \n",
    "#vz3 = Function('vz3')(t) \n",
    "\n",
    "#       0  1  2  3  4  5\n",
    "# s = [x1,y1,z1,x2,y2,z2]\n",
    "# i = [vx1,vy1,vz1,vx2,vy2,vz2]\n",
    "\n",
    "\n",
    "lengthoflist1 = len(list(s))\n",
    "                \n",
    "lengthoflist2 = len(list(i))\n",
    "\n",
    "# adiff1 = +1.0*Derivative(i[0], t)-1.0*Derivative(i[2], t) \n",
    "# adiff2 = -1.0*Derivative(i[3], t) + 1.0*Derivative(i[1], t)\n",
    "\n",
    "adiff1 = -1.0*Derivative(i[0], t)+1.0*Derivative(i[3], t) \n",
    "adiff2 = -1.0*Derivative(i[1], t) + 1.0*Derivative(i[4], t)\n",
    "adiff3 = -1.0*Derivative(i[2], t)+1.0*Derivative(i[5], t) \n",
    "\n",
    "# adiff1 = +1.0*Derivative(i[0], t)-1.0*Derivative(i[3], t) \n",
    "# adiff2 = +1.0*Derivative(i[1], t) - 1.0*Derivative(i[4], t)\n",
    "# adiff1 = +1.0*Derivative(i[2], t)-1.0*Derivative(i[5], t) \n",
    "\n",
    "#print(adiff1)\n",
    "#print(adiff2) \n",
    "\n",
    "for r in range(0, lengthoflist1):\n",
    "    \n",
    "    #s[r] = s[r](t)\n",
    "    #i[r] = i[r](t)\n",
    "\n",
    "    lagrange1 = Eq(((Derivative(L, s[r]).doit())-(Derivative(Derivative(L, i[r]).doit(), t))).doit(), 0)\n",
    "    lol = Derivative(L, i[r]).doit()\n",
    "    #print(lagrange1)\n",
    "    \n",
    "    if (r == 0 or r==3):\n",
    "        adiff = adiff1\n",
    "    elif(r==1 or r==4):\n",
    "        adiff = adiff2\n",
    "    elif(r==2 or r==5):\n",
    "        adiff = adiff3\n",
    "            \n",
    "    #cc = Derivative(i[r],t)\n",
    "    #print(cc)\n",
    "    \n",
    "    \n",
    "    \n",
    "    \n",
    "    #acceleration1 = Eq(((Derivative(L, s[r]).doit())-(Derivative(Derivative(L, i[r]).doit(), t))).doit(), 0) #+ 2.0*cc   \n",
    "    acceleration1 = solve(Eq(((Derivative(L, s[r]).doit())-(Derivative(Derivative(L, i[r]).doit(), t))).doit(), 0), adiff)\n",
    "    #print(adiff,\"Hello\")\n",
    "    \n",
    "    #acceleration1.subs(-2.0*Derivative(i[r],t),0)\n",
    "    #acl1.subs(-2.0*Derivative(vx1,t), 0)\n",
    "    if(r == 0):\n",
    "        acl1t = acceleration1#[0]\n",
    "        \n",
    "    elif(r==1):\n",
    "        acl2t = acceleration1#[0]\n",
    "        \n",
    "    elif(r==2):\n",
    "        acl3t = acceleration1#[0]\n",
    "        \n",
    "    elif(r==3):\n",
    "        acl4t = acceleration1#[0]\n",
    "        \n",
    "    elif(r==4):\n",
    "        acl5t = acceleration1#[0]\n",
    "        \n",
    "    elif(r==5):\n",
    "        acl6t = acceleration1#[0]\n",
    "    elif(r==6):\n",
    "        acl7t = acceleration1#[0]\n",
    "       \n",
    "    elif(r==7):\n",
    "        acl8t = acceleration1#[0]\n",
    "       \n",
    "    elif(r==8):\n",
    "        acl9t = acceleration1#[0]\n",
    "        \n",
    "\n",
    "    \n",
    "    \n",
    "    \n",
    "                    #print(lagrange1)\n",
    "                    #print(acceleration1)\n",
    "\n",
    "                    #a = latex(\"SolveLagrangian \\longrightarrow\")\n",
    "                    #b = latex(lagrange1)\n",
    "                    #c = latex(\" a\") + latex(\"_\") + latex(s[r]) + latex('=')\n",
    "                    #d = latex(acceleration1)\n",
    "\n",
    "    \n",
    "    ax = plt.subplots()\n",
    "    plt.axis('off')\n",
    "    \n",
    "    ax = plt.axes([0,0,2.7,0.5]) \n",
    "\n",
    "    ax.set_xticks([])\n",
    "\n",
    "    ax.set_yticks([])\n",
    "                                        #Lagrangian and Text\n",
    "    plt.text(0.03,(0.7),'$%s$' %(latex(\"SolveLagrangian \\longrightarrow\")),size=21), plt.text(0.24,(0.7),'$%s$' %(latex(lagrange1)),size=21)\n",
    "    \n",
    "                                    #Solution to Respective acceleration\n",
    "    plt.text(0.03,(0.22),'$%s$' %(latex(\" a\") + latex(\"_\") + latex(s[r]) + latex('=')),size=24), plt.text(0.12,(0.22),'$%s$' %(latex(acceleration1)),size=24)\n",
    "    plt.show()       \n",
    "    \n",
    "\n",
    "\n",
    "#***START***\n",
    "\n",
    "# for k  in  list(s):             \n",
    "#         for n in list(i):\n",
    "              \n",
    "#                 a = Derivative(n,rspt)\n",
    "#                 partialderiv1 = Derivative(L, k) \n",
    "#                 partialderiv2 = Derivative(L, n)\n",
    "#                 diffpartial = Derivative(partialderiv2, t)\n",
    "#                 calclagrangian = partialderiv1 - diffpartial   \n",
    "#                 eqn = Eq((calclagrangian.doit()), 0)\n",
    "#                 solv = solve(eqn, Derivative(n, t) )\n",
    "#                 partialderiv1 = Derivative(L, k)\n",
    "#                 partialderiv1.doit()\n",
    "#                 partialderiv2 = Derivative(L, n)\n",
    "#                 diffpartial = Derivative(partialderiv2, t)\n",
    "#                 calclagrangian = partialderiv1 - diffpartial\n",
    "#                 calclagrangian.doit()\n",
    "#                 eqn = Eq((calclagrangian.doit()), 0)\n",
    "#                 solv = solve(eqn, Derivative(n, t))\n",
    "#                 partialderiv1 = Derivative(L, k)\n",
    "#                 partialderiv2 = Derivative(L, n)\n",
    "#                 diffpartial = Derivative(partialderiv2, t)\n",
    "#                 calclagrangian = partialderiv1 - diffpartial\n",
    "#                 eqn = Eq((calclagrangian.doit()), 0)\n",
    "                \n",
    "                #***END***\n",
    "                \n",
    "                #For moving plane\n",
    "                #(M*v**2)/2 + m*(w**2 +(tan(z)**2)*(v+w)**2)/2\n",
    "                #-(m*g*(x + y))* tan(z)\n",
    "                \n",
    "                #(m*(l**2)*(w**2) + x**2 + 2*l*v*w*(cos(y)))/2\n",
    "                # -1/((x2-x1)**2+(y2-y1)**2)**0.5\n",
    "                # (m*v**2)/2 + (m*w**2)/2\n",
    "                # ((vx2-vx1)**2+(vy2-vy1)**2)/2.0\n",
    "                \n",
    "                # Derivative(L, k).doit(),  Derivative(L, n).doit()\n",
    "                \n",
    "#(J)(calclagrangian.doit()), (Q), (solv),adiff1, adiff2, eqn -1/((x2-x1)**2.0+(y2-y1)**2.0)**0.5\n",
    "# ((vx2-vx1)**2.0 + (vy2-vy1)**2.0)/2.0"
   ]
  },
  {
   "cell_type": "code",
   "execution_count": 14,
   "metadata": {},
   "outputs": [
    {
     "name": "stdout",
     "output_type": "stream",
     "text": [
      "0.6931471805599453\n"
     ]
    }
   ],
   "source": [
    "\n",
    "###***START***\n",
    "\n",
    "\n",
    "###***END***\n",
    "\n",
    "# t = np.linspace(0,20)\n",
    "# print(acceleration1)\n",
    "# ac1 = acceleration1[0]\n",
    "# print(acceleration1)\n",
    "\n",
    "# ya = [0.75, 0., 0.33, 1/np.sqrt(2),   # [x_1, v_x_1, y_1, v_y_1\n",
    "#      -0.25, 0., 0.33, -1/np.sqrt(2)]\n",
    "acl1= acl1t[0]\n",
    "acl2= acl2t[0]\n",
    "acl3= acl3t[0]\n",
    "acl4= acl4t[0]\n",
    "acl5= acl5t[0]\n",
    "acl6= acl6t[0]\n",
    "# acl7= acl7t\n",
    "# acl8= acl8t\n",
    "# acl9= acl9t\n",
    "# print(acl1) # 1\n",
    "# print(acl2) # \n",
    "# print(acl3) # \n",
    "# print(acl4) # \n",
    "# -acl1 # 1\n",
    "# acl2 # \n",
    "# -acl3 # \n",
    "# acl4 # \n",
    "\n",
    "\n",
    "\n",
    "\n",
    "\n",
    "\n",
    "#f = lambda x1 : ac1\n",
    "\n",
    "#f(5)\n",
    "\n",
    "# print(type(ac1))\n",
    "# q1=acl1.subs([(x1,ya[0]),(x2,ya[4]),(y1,ya[2]),(y2,ya[6])])\n",
    "# print(q1)\n",
    "acl1.subs(x1, x1)\n",
    "acl2.subs(x1, x1)\n",
    "acl3.subs(x1, x1)\n",
    "acl4.subs(x1, x1)\n",
    "acl5.subs(x1, x1)\n",
    "acl6.subs(x1, x1)\n",
    "ya = np.zeros(12)\n",
    "fa = np.zeros(8)\n",
    "#ya=[1.0,0.,0.0,0.3, -1.0,0.,0.,-0.3]\n",
    "#ya=[1.0,0.0,0.0,0.3,1,0, -1.0,0.0,0.0,-0.3,-1,0]\n",
    "print(np.log(2))"
   ]
  },
  {
   "cell_type": "code",
   "execution_count": 217,
   "metadata": {},
   "outputs": [],
   "source": [
    "# acl1=acl1.subs(-2.0*Derivative(vx1,t),0)\n",
    "# acl2=acl2.subs(-2.0*Derivative(vy1,t),0)\n",
    "# acl3=acl3.subs(-2.0*Derivative(vz1,t),0)\n",
    "# acl4=acl4.subs(-2.0*Derivative(vx2,t),0)\n",
    "# acl5=acl5.subs(-2.0*Derivative(vy2,t),0)\n",
    "# acl6=acl6.subs(-2.0*Derivative(vz2,t),0)\n",
    "# acl7=acl7.subs(-2.0*Derivative(vx3,t),0)\n",
    "# acl8=acl8.subs(-2.0*Derivative(vy3,t),0)\n",
    "# acl9=acl9.subs(-2.0*Derivative(vz3,t),0)"
   ]
  },
  {
   "cell_type": "code",
   "execution_count": 214,
   "metadata": {},
   "outputs": [
    {
     "data": {
      "image/png": "[encoded data removed]",
      "text/latex": [
       "$$\\frac{1.0 \\left(- \\operatorname{x_{1}}{\\left (t \\right )} + \\operatorname{x_{2}}{\\left (t \\right )}\\right)^{1.0}}{\\left(\\left(- \\operatorname{x_{1}}{\\left (t \\right )} + \\operatorname{x_{2}}{\\left (t \\right )}\\right)^{2.0} + \\left(- \\operatorname{y_{1}}{\\left (t \\right )} + \\operatorname{y_{2}}{\\left (t \\right )}\\right)^{2.0} + \\left(- \\operatorname{z_{1}}{\\left (t \\right )} + \\operatorname{z_{2}}{\\left (t \\right )}\\right)^{2.0}\\right)^{1.5}} + \\frac{1.0 \\left(- \\operatorname{x_{1}}{\\left (t \\right )} + \\operatorname{x_{3}}{\\left (t \\right )}\\right)^{1.0}}{\\left(\\left(- \\operatorname{x_{1}}{\\left (t \\right )} + \\operatorname{x_{3}}{\\left (t \\right )}\\right)^{2.0} + \\left(- \\operatorname{y_{1}}{\\left (t \\right )} + \\operatorname{y_{3}}{\\left (t \\right )}\\right)^{2.0} + \\left(- \\operatorname{z_{1}}{\\left (t \\right )} + \\operatorname{z_{3}}{\\left (t \\right )}\\right)^{2.0}\\right)^{1.5}} + 1.0 \\frac{d}{d t} \\operatorname{vx_{2}}{\\left (t \\right )} + 1.0 \\frac{d}{d t} \\operatorname{vx_{3}}{\\left (t \\right )} = 0$$"
      ],
      "text/plain": [
       "                                                                              \n",
       "                    1.0 ⎛                2.0                   2.0            \n",
       "1.0⋅(-x₁(t) + x₂(t))   ⋅⎝(-x₁(t) + x₂(t))    + (-y₁(t) + y₂(t))    + (-z₁(t) +\n",
       "                                                                              \n",
       "\n",
       "           -1.5                                                               \n",
       "       2.0⎞                           1.0 ⎛                2.0                \n",
       " z₂(t))   ⎠     + 1.0⋅(-x₁(t) + x₃(t))   ⋅⎝(-x₁(t) + x₃(t))    + (-y₁(t) + y₃(\n",
       "                                                                              \n",
       "\n",
       "                             -1.5                                      \n",
       "   2.0                   2.0⎞           d                d             \n",
       "t))    + (-z₁(t) + z₃(t))   ⎠     + 1.0⋅──(vx₂(t)) + 1.0⋅──(vx₃(t)) = 0\n",
       "                                        dt               dt            "
      ]
     },
     "execution_count": 214,
     "metadata": {},
     "output_type": "execute_result"
    }
   ],
   "source": [
    "# acl1.subs(-2.0*Derivative(vx1,t),0)"
   ]
  },
  {
   "cell_type": "code",
   "execution_count": 218,
   "metadata": {},
   "outputs": [
    {
     "data": {
      "image/png": "[encoded data removed]",
      "text/latex": [
       "$$\\frac{1.0 \\left(- \\operatorname{x_{1}}{\\left (t \\right )} + \\operatorname{x_{2}}{\\left (t \\right )}\\right)^{1.0}}{\\left(\\left(- \\operatorname{x_{1}}{\\left (t \\right )} + \\operatorname{x_{2}}{\\left (t \\right )}\\right)^{2.0} + \\left(- \\operatorname{y_{1}}{\\left (t \\right )} + \\operatorname{y_{2}}{\\left (t \\right )}\\right)^{2.0} + \\left(- \\operatorname{z_{1}}{\\left (t \\right )} + \\operatorname{z_{2}}{\\left (t \\right )}\\right)^{2.0}\\right)^{1.5}} + \\frac{1.0 \\left(- \\operatorname{x_{1}}{\\left (t \\right )} + \\operatorname{x_{3}}{\\left (t \\right )}\\right)^{1.0}}{\\left(\\left(- \\operatorname{x_{1}}{\\left (t \\right )} + \\operatorname{x_{3}}{\\left (t \\right )}\\right)^{2.0} + \\left(- \\operatorname{y_{1}}{\\left (t \\right )} + \\operatorname{y_{3}}{\\left (t \\right )}\\right)^{2.0} + \\left(- \\operatorname{z_{1}}{\\left (t \\right )} + \\operatorname{z_{3}}{\\left (t \\right )}\\right)^{2.0}\\right)^{1.5}} + 1.0 \\frac{d}{d t} \\operatorname{vx_{2}}{\\left (t \\right )} + 1.0 \\frac{d}{d t} \\operatorname{vx_{3}}{\\left (t \\right )} = 0$$"
      ],
      "text/plain": [
       "                                                                              \n",
       "                    1.0 ⎛                2.0                   2.0            \n",
       "1.0⋅(-x₁(t) + x₂(t))   ⋅⎝(-x₁(t) + x₂(t))    + (-y₁(t) + y₂(t))    + (-z₁(t) +\n",
       "                                                                              \n",
       "\n",
       "           -1.5                                                               \n",
       "       2.0⎞                           1.0 ⎛                2.0                \n",
       " z₂(t))   ⎠     + 1.0⋅(-x₁(t) + x₃(t))   ⋅⎝(-x₁(t) + x₃(t))    + (-y₁(t) + y₃(\n",
       "                                                                              \n",
       "\n",
       "                             -1.5                                      \n",
       "   2.0                   2.0⎞           d                d             \n",
       "t))    + (-z₁(t) + z₃(t))   ⎠     + 1.0⋅──(vx₂(t)) + 1.0⋅──(vx₃(t)) = 0\n",
       "                                        dt               dt            "
      ]
     },
     "execution_count": 218,
     "metadata": {},
     "output_type": "execute_result"
    }
   ],
   "source": [
    "acl1.subs(x1, x1)"
   ]
  },
  {
   "cell_type": "code",
   "execution_count": 186,
   "metadata": {},
   "outputs": [
    {
     "data": {
      "image/png": "[encoded data removed]",
      "text/latex": [
       "$$- \\frac{1.0 \\left(- \\operatorname{y_{1}}{\\left (t \\right )} + \\operatorname{y_{2}}{\\left (t \\right )}\\right)^{1.0}}{\\left(\\left(- \\operatorname{x_{1}}{\\left (t \\right )} + \\operatorname{x_{2}}{\\left (t \\right )}\\right)^{2.0} + \\left(- \\operatorname{y_{1}}{\\left (t \\right )} + \\operatorname{y_{2}}{\\left (t \\right )}\\right)^{2.0} + \\left(- \\operatorname{z_{1}}{\\left (t \\right )} + \\operatorname{z_{2}}{\\left (t \\right )}\\right)^{2.0}\\right)^{1.5}} + \\frac{1.0 \\left(- \\operatorname{y_{2}}{\\left (t \\right )} + \\operatorname{y_{3}}{\\left (t \\right )}\\right)^{1.0}}{\\left(\\left(- \\operatorname{x_{2}}{\\left (t \\right )} + \\operatorname{x_{3}}{\\left (t \\right )}\\right)^{2.0} + \\left(- \\operatorname{y_{2}}{\\left (t \\right )} + \\operatorname{y_{3}}{\\left (t \\right )}\\right)^{2.0} + \\left(- \\operatorname{z_{2}}{\\left (t \\right )} + \\operatorname{z_{3}}{\\left (t \\right )}\\right)^{2.0}\\right)^{1.5}} + 1.0 \\frac{d}{d t} \\operatorname{vy_{1}}{\\left (t \\right )} - 2.0 \\frac{d}{d t} \\operatorname{vy_{2}}{\\left (t \\right )} + 1.0 \\frac{d}{d t} \\operatorname{vy_{3}}{\\left (t \\right )} = 0$$"
      ],
      "text/plain": [
       "                                                                              \n",
       "                      1.0 ⎛                2.0                   2.0          \n",
       "- 1.0⋅(-y₁(t) + y₂(t))   ⋅⎝(-x₁(t) + x₂(t))    + (-y₁(t) + y₂(t))    + (-z₁(t)\n",
       "                                                                              \n",
       "\n",
       "             -1.5                                                             \n",
       "         2.0⎞                           1.0 ⎛                2.0              \n",
       " + z₂(t))   ⎠     + 1.0⋅(-y₂(t) + y₃(t))   ⋅⎝(-x₂(t) + x₃(t))    + (-y₂(t) + y\n",
       "                                                                              \n",
       "\n",
       "                               -1.5                                           \n",
       "     2.0                   2.0⎞           d                d                d \n",
       "₃(t))    + (-z₂(t) + z₃(t))   ⎠     + 1.0⋅──(vy₁(t)) - 2.0⋅──(vy₂(t)) + 1.0⋅──\n",
       "                                          dt               dt               dt\n",
       "\n",
       "            \n",
       "            \n",
       "(vy₃(t)) = 0\n",
       "            "
      ]
     },
     "execution_count": 186,
     "metadata": {},
     "output_type": "execute_result"
    }
   ],
   "source": [
    "acl5.subs(x1, x1)"
   ]
  },
  {
   "cell_type": "code",
   "execution_count": null,
   "metadata": {},
   "outputs": [],
   "source": [
    "acl5.subs(-2.0*Derivative(vy2,t), 0)"
   ]
  },
  {
   "cell_type": "code",
   "execution_count": 228,
   "metadata": {},
   "outputs": [
    {
     "data": {
      "image/png": "[encoded data removed]",
      "text/latex": [
       "$$- \\frac{1.0 \\left(- \\operatorname{z_{1}}{\\left (t \\right )} + \\operatorname{z_{2}}{\\left (t \\right )}\\right)^{1.0}}{\\left(\\left(\\operatorname{x_{2}}{\\left (t \\right )} - 3\\right)^{2.0} + \\left(- \\operatorname{y_{1}}{\\left (t \\right )} + \\operatorname{y_{2}}{\\left (t \\right )}\\right)^{2.0} + \\left(- \\operatorname{z_{1}}{\\left (t \\right )} + \\operatorname{z_{2}}{\\left (t \\right )}\\right)^{2.0}\\right)^{1.5}} + \\frac{1.0 \\left(- \\operatorname{z_{2}}{\\left (t \\right )} + \\operatorname{z_{3}}{\\left (t \\right )}\\right)^{1.0}}{\\left(\\left(- \\operatorname{x_{2}}{\\left (t \\right )} + \\operatorname{x_{3}}{\\left (t \\right )}\\right)^{2.0} + \\left(- \\operatorname{y_{2}}{\\left (t \\right )} + \\operatorname{y_{3}}{\\left (t \\right )}\\right)^{2.0} + \\left(- \\operatorname{z_{2}}{\\left (t \\right )} + \\operatorname{z_{3}}{\\left (t \\right )}\\right)^{2.0}\\right)^{1.5}} + 1.0 \\frac{d}{d t} \\operatorname{vz_{1}}{\\left (t \\right )} + 1.0 \\frac{d}{d t} \\operatorname{vz_{3}}{\\left (t \\right )} = 0$$"
      ],
      "text/plain": [
       "                                                                              \n",
       "                      1.0 ⎛           2.0                   2.0               \n",
       "- 1.0⋅(-z₁(t) + z₂(t))   ⋅⎝(x₂(t) - 3)    + (-y₁(t) + y₂(t))    + (-z₁(t) + z₂\n",
       "                                                                              \n",
       "\n",
       "        -1.5                                                                  \n",
       "    2.0⎞                           1.0 ⎛                2.0                   \n",
       "(t))   ⎠     + 1.0⋅(-z₂(t) + z₃(t))   ⋅⎝(-x₂(t) + x₃(t))    + (-y₂(t) + y₃(t))\n",
       "                                                                              \n",
       "\n",
       "                          -1.5                                      \n",
       "2.0                   2.0⎞           d                d             \n",
       "    + (-z₂(t) + z₃(t))   ⎠     + 1.0⋅──(vz₁(t)) + 1.0⋅──(vz₃(t)) = 0\n",
       "                                     dt               dt            "
      ]
     },
     "execution_count": 228,
     "metadata": {},
     "output_type": "execute_result"
    }
   ],
   "source": [
    "acl6.subs(x1, 3)"
   ]
  },
  {
   "cell_type": "code",
   "execution_count": 15,
   "metadata": {},
   "outputs": [
    {
     "data": {
      "image/png": "[encoded data removed]",
      "text/latex": [
       "$\\displaystyle 1.0$"
      ],
      "text/plain": [
       "1.0"
      ]
     },
     "execution_count": 15,
     "metadata": {},
     "output_type": "execute_result"
    }
   ],
   "source": [
    "# #rk4a(ya,t,h)\n",
    "#print(type(ya))\n",
    "#ya=[1.0,0.0,0.0,0.3,1,0, -1.0,0.0,0.0,-0.3,-1,0, -2.0,0.0,0.0,0.0,-0.12,0.30]\n",
    "ya=[1.0,0.0,0.0,0.3,0.0,0.0, -1.0,0.0,0.0,-0.3,0.0,0.0]\n",
    "#ya=[0.0,0,0.,0.0,0.0,0.0,0.0,0.0,0]\n",
    "ya[0]"
   ]
  },
  {
   "cell_type": "code",
   "execution_count": 23,
   "metadata": {},
   "outputs": [],
   "source": [
    "def g(acl1,acl2,acl3,acl4,acl5,acl6,y):\n",
    "#     za = np.zeros(4)\n",
    "#     za[0]= acl1.subs([(x1,y[0]),(x2,y[4]),(y1,y[2]),(y2,y[6])])\n",
    "#     za[1]= acl2.subs([(x1,y[0]),(x2,y[4]),(y1,y[2]),(y2,y[6])])\n",
    "#     za[2]= -acl3.subs([(x1,y[0]),(x2,y[4]),(y1,y[2]),(y2,y[6])])\n",
    "#     za[3]= -acl4.subs([(x1,y[0]),(x2,y[4]),(y1,y[2]),(y2,y[6])])\n",
    "    za = np.zeros(6)\n",
    "    #za=[]\n",
    "    za[0]=-acl1.subs([(x1,y[0]),(x2,y[6]),(y1,y[2]),(y2,y[8]),(z1,y[4]),(z2,y[10])])\n",
    "    za[1]=-acl2.subs([(x1,y[0]),(x2,y[6]),(y1,y[2]),(y2,y[8]),(z1,y[4]),(z2,y[10])])\n",
    "    za[2]=-acl3.subs([(x1,y[0]),(x2,y[6]),(y1,y[2]),(y2,y[8]),(z1,y[4]),(z2,y[10])])\n",
    "    za[3]=acl4.subs([(x1,y[0]),(x2,y[6]),(y1,y[2]),(y2,y[8]),(z1,y[4]),(z2,y[10])])\n",
    "    za[4]=acl5.subs([(x1,y[0]),(x2,y[6]),(y1,y[2]),(y2,y[8]),(z1,y[4]),(z2,y[10])])\n",
    "    za[5]=acl6.subs([(x1,y[0]),(x2,y[6]),(y1,y[2]),(y2,y[8]),(z1,y[4]),(z2,y[10])])\n",
    "#     za.append(acl7.subs([(x1,y[0]),(x2,y[6]),(y1,y[2]),(y2,y[8]),(z1,y[4]),(z2,y[10])]))\n",
    "#     za.append(acl8.subs([(x1,y[0]),(x2,y[6]),(y1,y[2]),(y2,y[8]),(z1,y[4]),(z2,y[10])]))\n",
    "#     za.append(acl9.subs([(x1,y[0]),(x2,y[6]),(x3,y[12]),(y1,y[2]),(y2,y[8]),(y3,y[14]),(z1,y[4]),(z2,y[10]),(z3,y[16])]))\n",
    "    return [za[0],za[1],za[2],za[3],za[4],za[5]]"
   ]
  },
  {
   "cell_type": "code",
   "execution_count": 24,
   "metadata": {},
   "outputs": [
    {
     "data": {
      "image/png": "[encoded data removed]",
      "text/latex": [
       "$\\displaystyle \\left[ -0.25, \\  0.0, \\  0.0, \\  0.25, \\  0.0, \\  0.0\\right]$"
      ],
      "text/plain": [
       "[-0.25, 0.0, 0.0, 0.25, 0.0, 0.0]"
      ]
     },
     "execution_count": 24,
     "metadata": {},
     "output_type": "execute_result"
    }
   ],
   "source": [
    "g(acl1,acl2,acl3,acl4,acl5,acl6,ya)"
   ]
  },
  {
   "cell_type": "code",
   "execution_count": 241,
   "metadata": {},
   "outputs": [
    {
     "data": {
      "image/png": "[encoded data removed]",
      "text/latex": [
       "$$\\frac{1.0 \\left(\\operatorname{x_{2}}{\\left (t \\right )} - 1.0\\right)^{1.0}}{\\left(\\left(\\operatorname{x_{2}}{\\left (t \\right )} - 1.0\\right)^{2.0} + \\left(- \\operatorname{y_{1}}{\\left (t \\right )} + \\operatorname{y_{2}}{\\left (t \\right )}\\right)^{2.0} + \\left(- \\operatorname{z_{1}}{\\left (t \\right )} + \\operatorname{z_{2}}{\\left (t \\right )}\\right)^{2.0}\\right)^{1.5}} + \\frac{1.0 \\left(\\operatorname{x_{3}}{\\left (t \\right )} - 1.0\\right)^{1.0}}{\\left(\\left(\\operatorname{x_{3}}{\\left (t \\right )} - 1.0\\right)^{2.0} + \\left(- \\operatorname{y_{1}}{\\left (t \\right )} + \\operatorname{y_{3}}{\\left (t \\right )}\\right)^{2.0} + \\left(- \\operatorname{z_{1}}{\\left (t \\right )} + \\operatorname{z_{3}}{\\left (t \\right )}\\right)^{2.0}\\right)^{1.5}} + 1.0 \\frac{d}{d t} \\operatorname{vx_{2}}{\\left (t \\right )} + 1.0 \\frac{d}{d t} \\operatorname{vx_{3}}{\\left (t \\right )} = 0$$"
      ],
      "text/plain": [
       "                                                                              \n",
       "                 1.0 ⎛             2.0                   2.0                  \n",
       "1.0⋅(x₂(t) - 1.0)   ⋅⎝(x₂(t) - 1.0)    + (-y₁(t) + y₂(t))    + (-z₁(t) + z₂(t)\n",
       "                                                                              \n",
       "\n",
       "     -1.5                                                                     \n",
       " 2.0⎞                        1.0 ⎛             2.0                   2.0      \n",
       ")   ⎠     + 1.0⋅(x₃(t) - 1.0)   ⋅⎝(x₃(t) - 1.0)    + (-y₁(t) + y₃(t))    + (-z\n",
       "                                                                              \n",
       "\n",
       "                 -1.5                                      \n",
       "             2.0⎞           d                d             \n",
       "₁(t) + z₃(t))   ⎠     + 1.0⋅──(vx₂(t)) + 1.0⋅──(vx₃(t)) = 0\n",
       "                            dt               dt            "
      ]
     },
     "execution_count": 241,
     "metadata": {},
     "output_type": "execute_result"
    }
   ],
   "source": [
    "# acl1.subs([(x1,1.0)])"
   ]
  },
  {
   "cell_type": "code",
   "execution_count": 44,
   "metadata": {},
   "outputs": [],
   "source": [
    "def f3(t,y):       \n",
    "#     q1 = y[0] - y[4]           \n",
    "#     q2 = y[2] - y[6]      \n",
    "    \n",
    "    #R = np.sqrt(q1**2 + q2**2)  \n",
    "#     f = np.zeros(8) # This is borrowed from lecture.\n",
    "#     z3 =np.zeros(4)\n",
    "#     z3 = g(acl1,acl2,acl3,acl4,y)\n",
    "#     f[0] = y[1]                \n",
    "#     f[1] = z3[0]   \n",
    "#     f[2] = y[3]               \n",
    "#     f[3] = z3[1]        \n",
    "#     f[4] = y[5]                \n",
    "#     f[5] = z3[2]         \n",
    "#     f[6] = y[7]                \n",
    "#     f[7] = z3[3]   \n",
    "    f = np.zeros(12) # This is borrowed from lecture.\n",
    "    #f=[]\n",
    "    \n",
    "    z3 =np.zeros(6)\n",
    "    z3 = g(acl1,acl2,acl3,acl4,acl5,acl6,y)\n",
    "    f[0]=(y[1]  ) #vx1              \n",
    "    f[1]=(z3[0]  ) #ax1\n",
    "    f[2]=(y[3]   )# vy1      \n",
    "    f[3]=(z3[1]  ) #ay1\n",
    "    f[4]=(y[5]   )#   vz1          \n",
    "    f[5]=(z3[2]   )#  az1 \n",
    "    \n",
    "    f[6]=(y[7]     )#  vx2\n",
    "    f[7]=(z3[3]  )#  ax2\n",
    "    f[8]=(y[9]   ) # vy2           \n",
    "    f[9]=(z3[4]  ) # ay2\n",
    "    f[10]=(y[11]  ) # vz2\n",
    "    f[11]=(z3[5]  ) # az2\n",
    "    \n",
    "#     f.append(y[13]   )  #  vx2\n",
    "#     f.append(z3[6]  )#  ax2\n",
    "#     f.append(y[15]   ) # vy2           \n",
    "#     f.append(z3[7]   )# ay2\n",
    "#     f.append(y[17]   )# vz2\n",
    "#     f.append(z3[8]   )# az2\n",
    "    return f"
   ]
  },
  {
   "cell_type": "code",
   "execution_count": 45,
   "metadata": {},
   "outputs": [],
   "source": [
    "def rk4b(y,t,h): # h being the interval step\n",
    "    k1=np.zeros(8) # This is borrowed from lecture.\n",
    "    k2=np.zeros(8)\n",
    "    k3=np.zeros(8)\n",
    "    k4=np.zeros(8)\n",
    "    \n",
    "    \n",
    "    k1 = h*f3(t, y)\n",
    "    k2 = h*f3(t + (1.0/2.0)*h, y + (1.0/2.0)*k1)\n",
    "    k3 = h*f3(t + (1.0/2.0)*h, y + (1.0/2.0)*k2)\n",
    "    k4 = h*f3(t + h, y + k3)\n",
    "    \n",
    "    y = y +  (k1 + 2 * k2 + 2 * k3 + k4)/6.0\n",
    "    \n",
    "    return y"
   ]
  },
  {
   "cell_type": "code",
   "execution_count": 46,
   "metadata": {
    "scrolled": false
   },
   "outputs": [
    {
     "data": {
      "text/html": [
       "<div id=\"glowscript\" class=\"glowscript\"></div>"
      ],
      "text/plain": [
       "<IPython.core.display.HTML object>"
      ]
     },
     "metadata": {},
     "output_type": "display_data"
    },
    {
     "data": {
      "application/javascript": [
       "if (typeof Jupyter !== \"undefined\") { window.__context = { glowscript_container: $(\"#glowscript\").removeAttr(\"id\")};}else{ element.textContent = ' ';}"
      ],
      "text/plain": [
       "<IPython.core.display.Javascript object>"
      ]
     },
     "metadata": {},
     "output_type": "display_data"
    }
   ],
   "source": [
    "#f3(0,ya)\n",
    "import numpy as np\n",
    "from vpython import * # must import vpython first\n",
    "scene = canvas() # with this you don't need to restart kernel each time\n",
    "gd = graph(x=0, y=0, width=600, height=600, \n",
    "      title='Orbit', xtitle='x', ytitle='y', \n",
    "      foreground=color.black, background=color.white, \n",
    "      xmax=2, xmin=-2, ymax=2, ymin=-2)\n",
    "\n",
    "f1 = gcurve(color=color.cyan)\t# a graphics curve  \n",
    "f2 = gcurve(color=color.green)\t# a graphics curve  \n",
    "\n",
    "#G=1.\n",
    "#M=1.\n",
    "#tend=2.*np.pi\n",
    "#h=0.001\n",
    "#ya=[1.,0.,0.,1.]\n",
    "#t = 0\n",
    "\n",
    "\n",
    "    \n",
    "# x1a = []\n",
    "# x2a = []\n",
    "# y1a = []\n",
    "# y2a = []\n",
    "\n",
    "\n",
    "#tend = 2*np.pi\n",
    "\n",
    "x1a = []\n",
    "x2a = []\n",
    "y1a = []\n",
    "y2a = []\n",
    "z1a = []\n",
    "z2a = []\n",
    "\n",
    "#=[1.0,0.0,0.0,0.3,1,0, -1.0,0.0,0.0,-0.3,-1,0, -2.0,0.0,0.0,0.0,-0.12,0.30]\n",
    "#ya=[1.0,-1.2,1.0,0.3,6.0,0.3, -1.0,3.0,-1.0,-0.3,-1.0,-0.3]\n",
    "ya=[1.0,0.0,0.0,0.3,1.0,0.0, -1.0,0.0,0.0,-0.3,-1.0,0.0]\n",
    "#ya=[1.0,0.,0.0,0.3, -1.0,0.,0.,-0.3]\n",
    "#\n",
    "#ya=[0.2,-0.930,1.5,0.7, -1.0,0.3,-0.9,-0.3]\n",
    "#ya=[0.0,0,0.,0.0,0.0,0.0,0.0,0.0,0]\n",
    "ball1 = sphere (pos=vector(ya[0],ya[2],ya[4]), radius=0.0333, color=color.red, make_trail = True)\n",
    "ball2 = sphere (pos=vector(ya[6],ya[8],ya[10]), radius=0.0333, color=color.green, make_trail = True)\n",
    "\n",
    "q1 = ya[0] - ya[4]           \n",
    "q2 = ya[2] - ya[6]  \n",
    "#Rb = np.sqrt(q1**2 + q2**2)  \n",
    "h = 0.1\n",
    "t = 0\n",
    "#tend = np.sqrt(2.0*4.0*(np.pi**2)* (Rb**3))\n",
    "tend = 9.0*np.pi\n",
    "ta = 0.06\n",
    "\n",
    "#mybox = box(pos=vector(0,0,0),length=.0, height=9.0, width=9.0)\n",
    "\n",
    "while(t<tend):\n",
    "    \n",
    "    if((t+h)>tend):\n",
    "        h=tend-ta\n",
    "        \n",
    "    ya = rk4b(ya,t,h)\n",
    "    x1a=np.append(x1a,ya[0])\n",
    "    y1a=np.append(y1a,ya[2])\n",
    "    z1a=np.append(z1a,ya[4])\n",
    "    x2a=np.append(x2a,ya[6])\n",
    "    y2a=np.append(y2a,ya[8])\n",
    "    z2a=np.append(z2a,ya[10])\n",
    "    t = t+h\n",
    "    rate(600)\n",
    "    ball1.pos.x=ya[0]\n",
    "    ball1.pos.y=ya[2]\n",
    "    ball1.pos.z=ya[4]\n",
    "    ball2.pos.x=ya[6]\n",
    "    ball2.pos.y=ya[8]\n",
    "    ball2.pos.z=ya[10]\n",
    "    \n",
    "   # ball1 = sphere(pos=vector(ya[0],ya[2],0), color=color.red)  \n",
    "   # ball2 = sphere(pos=vector(ya[0],ya[2],0), color=color.red)    #ball.velocity = vector(0,-1,0)\n",
    "    \n",
    "#     f1.plot(pos=(ya[0],ya[2]))\n",
    "#     f2.plot(pos=(ya[6],ya[8]))\n",
    "#     ,ya[4]\n",
    "#     ,ya[10]\n",
    "# plt.xlabel(\"x\")\n",
    "# plt.ylabel(\"y\")\n",
    "\n",
    "# plt.plot(x1a,y1a,z1a,label=\"Star 1\")\n",
    "# plt.plot(x2a,y2a,z2a,label=\"Star 2\")\n",
    "\n",
    "# plt.show()\n"
   ]
  },
  {
   "cell_type": "code",
   "execution_count": 40,
   "metadata": {
    "scrolled": true
   },
   "outputs": [
    {
     "ename": "TypeError",
     "evalue": "'function' object does not support item assignment",
     "output_type": "error",
     "traceback": [
      "\u001b[1;31m---------------------------------------------------------------------------\u001b[0m",
      "\u001b[1;31mTypeError\u001b[0m                                 Traceback (most recent call last)",
      "\u001b[1;32m<ipython-input-40-5fe545d61cda>\u001b[0m in \u001b[0;36m<module>\u001b[1;34m\u001b[0m\n\u001b[0;32m      1\u001b[0m \u001b[0mZax\u001b[0m\u001b[1;33m=\u001b[0m\u001b[0mnp\u001b[0m\u001b[1;33m.\u001b[0m\u001b[0mzeros\u001b[0m\u001b[1;33m(\u001b[0m\u001b[1;36m18\u001b[0m\u001b[1;33m)\u001b[0m\u001b[1;33m\u001b[0m\u001b[1;33m\u001b[0m\u001b[0m\n\u001b[1;32m----> 2\u001b[1;33m \u001b[0mZax\u001b[0m\u001b[1;33m=\u001b[0m\u001b[1;33m(\u001b[0m\u001b[0mf3\u001b[0m\u001b[1;33m(\u001b[0m\u001b[1;36m1.2\u001b[0m\u001b[1;33m,\u001b[0m\u001b[0mya\u001b[0m\u001b[1;33m)\u001b[0m\u001b[1;33m)\u001b[0m\u001b[1;31m#\u001b[0m\u001b[1;33m\u001b[0m\u001b[1;33m\u001b[0m\u001b[0m\n\u001b[0m\u001b[0;32m      3\u001b[0m \u001b[1;31m#Zax[1]=solve(f3(1.2,ya),0)\u001b[0m\u001b[1;33m\u001b[0m\u001b[1;33m\u001b[0m\u001b[1;33m\u001b[0m\u001b[0m\n\u001b[0;32m      4\u001b[0m \u001b[1;31m# a=Zax[1]#,solve(a,0)\u001b[0m\u001b[1;33m\u001b[0m\u001b[1;33m\u001b[0m\u001b[1;33m\u001b[0m\u001b[0m\n\u001b[0;32m      5\u001b[0m \u001b[1;31m# a\u001b[0m\u001b[1;33m\u001b[0m\u001b[1;33m\u001b[0m\u001b[1;33m\u001b[0m\u001b[0m\n",
      "\u001b[1;32m<ipython-input-37-46c584abfc14>\u001b[0m in \u001b[0;36mf3\u001b[1;34m(t, y)\u001b[0m\n\u001b[0;32m     20\u001b[0m     \u001b[0mz3\u001b[0m \u001b[1;33m=\u001b[0m\u001b[0mnp\u001b[0m\u001b[1;33m.\u001b[0m\u001b[0mzeros\u001b[0m\u001b[1;33m(\u001b[0m\u001b[1;36m6\u001b[0m\u001b[1;33m)\u001b[0m\u001b[1;33m\u001b[0m\u001b[1;33m\u001b[0m\u001b[0m\n\u001b[0;32m     21\u001b[0m     \u001b[0mz3\u001b[0m \u001b[1;33m=\u001b[0m \u001b[0mg\u001b[0m\u001b[1;33m(\u001b[0m\u001b[0macl1\u001b[0m\u001b[1;33m,\u001b[0m\u001b[0macl2\u001b[0m\u001b[1;33m,\u001b[0m\u001b[0macl3\u001b[0m\u001b[1;33m,\u001b[0m\u001b[0macl4\u001b[0m\u001b[1;33m,\u001b[0m\u001b[0macl5\u001b[0m\u001b[1;33m,\u001b[0m\u001b[0macl6\u001b[0m\u001b[1;33m,\u001b[0m\u001b[0my\u001b[0m\u001b[1;33m)\u001b[0m\u001b[1;33m\u001b[0m\u001b[1;33m\u001b[0m\u001b[0m\n\u001b[1;32m---> 22\u001b[1;33m     \u001b[0mf3\u001b[0m\u001b[1;33m[\u001b[0m\u001b[1;36m0\u001b[0m\u001b[1;33m]\u001b[0m\u001b[1;33m=\u001b[0m\u001b[1;33m(\u001b[0m\u001b[0my\u001b[0m\u001b[1;33m[\u001b[0m\u001b[1;36m1\u001b[0m\u001b[1;33m]\u001b[0m  \u001b[1;33m)\u001b[0m \u001b[1;31m#vx1\u001b[0m\u001b[1;33m\u001b[0m\u001b[1;33m\u001b[0m\u001b[0m\n\u001b[0m\u001b[0;32m     23\u001b[0m     \u001b[0mf3\u001b[0m\u001b[1;33m[\u001b[0m\u001b[1;36m1\u001b[0m\u001b[1;33m]\u001b[0m\u001b[1;33m=\u001b[0m\u001b[1;33m(\u001b[0m\u001b[0mz3\u001b[0m\u001b[1;33m[\u001b[0m\u001b[1;36m0\u001b[0m\u001b[1;33m]\u001b[0m  \u001b[1;33m)\u001b[0m \u001b[1;31m#ax1\u001b[0m\u001b[1;33m\u001b[0m\u001b[1;33m\u001b[0m\u001b[0m\n\u001b[0;32m     24\u001b[0m     \u001b[0mf3\u001b[0m\u001b[1;33m[\u001b[0m\u001b[1;36m2\u001b[0m\u001b[1;33m]\u001b[0m\u001b[1;33m=\u001b[0m\u001b[1;33m(\u001b[0m\u001b[0my\u001b[0m\u001b[1;33m[\u001b[0m\u001b[1;36m3\u001b[0m\u001b[1;33m]\u001b[0m   \u001b[1;33m)\u001b[0m\u001b[1;31m# vy1\u001b[0m\u001b[1;33m\u001b[0m\u001b[1;33m\u001b[0m\u001b[0m\n",
      "\u001b[1;31mTypeError\u001b[0m: 'function' object does not support item assignment"
     ]
    }
   ],
   "source": [
    "Zax=np.zeros(18)\n",
    "Zax=(f3(1.2,ya))# \n",
    "#Zax[1]=solve(f3(1.2,ya),0)\n",
    "# a=Zax[1]#,solve(a,0)\n",
    "# a\n",
    "Zax"
   ]
  },
  {
   "cell_type": "code",
   "execution_count": null,
   "metadata": {},
   "outputs": [],
   "source": []
  },
  {
   "cell_type": "code",
   "execution_count": null,
   "metadata": {},
   "outputs": [],
   "source": [
    "#from visual import *\n",
    "# import vpython\n",
    "# import vpython as vp # \"vp\" is any name of your choice\n",
    "# from vpython import box, color\n",
    "# floor = box (pos=(0,0,0), length=4, height=0.5, width=4, color=color.blue)\n",
    "# ball = sphere (pos=(0,4,0), radius=1, color=color.red)\n",
    "# ball.velocity = vector(0,-1,0)\n",
    "# dt = 0.01\n",
    "\n",
    "# while 1:\n",
    "#     rate (100)\n",
    "#     ball.pos = ball.pos + ball.velocity*dt\n",
    "#     if ball.y < ball.radius:\n",
    "#         ball.velocity.y = abs(ball.velocity.y)\n",
    "#     else:\n",
    "#         ball.velocity.y = ball.velocity.y - 9.8*dt"
   ]
  },
  {
   "cell_type": "code",
   "execution_count": null,
   "metadata": {},
   "outputs": [],
   "source": [
    "scene = canvas() # with this you don't need to restart kernel each time\n",
    "gd = graph(x=0, y=0, width=600, height=600, \n",
    "      title='Orbit', xtitle='x', ytitle='y', \n",
    "      foreground=color.black, background=color.white, \n",
    "      xmax=2, xmin=-2, ymax=2, ymin=-2)\n",
    "\n",
    "\n",
    "ball = sphere(pos=vector(-5,0,0), radius=0.5,color=color.cyan)\n",
    "wallR = box(pos=vector(6,0,0), size=vector(0.2,12,12), color=color.green)\n",
    "ball.velocity = vector(25,0,0)\n",
    "deltat = 0.005\n",
    "t = 0\n",
    "ball.pos = ball.pos + ball.velocity*deltat\n",
    "while t < 3:\n",
    "    rate(100)\n",
    "    if ball.pos.x > wallR.pos.x:\n",
    "        ball.velocity.x = -ball.velocity.x\n",
    "    ball.pos = ball.pos + ball.velocity*deltat #t = t + deltat\n",
    "    t = t + deltat "
   ]
  },
  {
   "cell_type": "code",
   "execution_count": null,
   "metadata": {},
   "outputs": [],
   "source": []
  }
 ],
 "metadata": {
  "kernelspec": {
   "display_name": "Python 3",
   "language": "python",
   "name": "python3"
  },
  "language_info": {
   "codemirror_mode": {
    "name": "ipython",
    "version": 3
   },
   "file_extension": ".py",
   "mimetype": "text/x-python",
   "name": "python",
   "nbconvert_exporter": "python",
   "pygments_lexer": "ipython3",
   "version": "3.7.4"
  }
 },
 "nbformat": 4,
 "nbformat_minor": 2
}
